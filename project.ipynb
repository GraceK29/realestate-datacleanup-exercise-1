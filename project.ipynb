{
 "cells": [
  {
   "attachments": {},
   "cell_type": "markdown",
   "id": "innocent-university",
   "metadata": {},
   "source": [
    "# Real Estate Clean up\n",
    "\n",
    "This is a real dataset and it was downloaded using web scraping techniques. The data contains registers from fotocasa which is one of the most popular websites of real estate in Spain. Please, do not do this (web scraping) unless it is for academic purposes.\n",
    "\n",
    "The dataset was downloaded a few years ago by Henry Navarro and In no case were economic returns obtained from it.\n",
    "\n",
    "It contains thousands of data from real houses published on the web www.fotocasa.com. Your goal is to extract as much information as possible with the knowledge you have so far about data science, for example what is the most expensive house in the entire dataset?\n",
    "\n",
    "Let's start with precisely that question... Good luck!"
   ]
  },
  {
   "attachments": {},
   "cell_type": "markdown",
   "id": "multiple-glass",
   "metadata": {},
   "source": [
    "#### Exercise 00. Read the dataset assets/real_estate.csv and try to visualize the table (★☆☆)"
   ]
  },
  {
   "cell_type": "code",
   "execution_count": 56,
   "id": "frank-heath",
   "metadata": {},
   "outputs": [
    {
     "data": {
      "text/html": [
       "<div>\n",
       "<style scoped>\n",
       "    .dataframe tbody tr th:only-of-type {\n",
       "        vertical-align: middle;\n",
       "    }\n",
       "\n",
       "    .dataframe tbody tr th {\n",
       "        vertical-align: top;\n",
       "    }\n",
       "\n",
       "    .dataframe thead th {\n",
       "        text-align: right;\n",
       "    }\n",
       "</style>\n",
       "<table border=\"1\" class=\"dataframe\">\n",
       "  <thead>\n",
       "    <tr style=\"text-align: right;\">\n",
       "      <th></th>\n",
       "      <th>Unnamed: 0</th>\n",
       "      <th>id_realEstates</th>\n",
       "      <th>isNew</th>\n",
       "      <th>realEstate_name</th>\n",
       "      <th>phone_realEstate</th>\n",
       "      <th>url_inmueble</th>\n",
       "      <th>rooms</th>\n",
       "      <th>bathrooms</th>\n",
       "      <th>surface</th>\n",
       "      <th>price</th>\n",
       "      <th>...</th>\n",
       "      <th>level4Id</th>\n",
       "      <th>level5Id</th>\n",
       "      <th>level6Id</th>\n",
       "      <th>level7Id</th>\n",
       "      <th>level8Id</th>\n",
       "      <th>accuracy</th>\n",
       "      <th>latitude</th>\n",
       "      <th>longitude</th>\n",
       "      <th>zipCode</th>\n",
       "      <th>customZone</th>\n",
       "    </tr>\n",
       "  </thead>\n",
       "  <tbody>\n",
       "    <tr>\n",
       "      <th>0</th>\n",
       "      <td>1</td>\n",
       "      <td>153771986</td>\n",
       "      <td>False</td>\n",
       "      <td>ferrari 57 inmobiliaria</td>\n",
       "      <td>912177526.0</td>\n",
       "      <td>https://www.fotocasa.es/es/comprar/vivienda/ma...</td>\n",
       "      <td>3.0</td>\n",
       "      <td>2.0</td>\n",
       "      <td>103.0</td>\n",
       "      <td>195000</td>\n",
       "      <td>...</td>\n",
       "      <td>0</td>\n",
       "      <td>0</td>\n",
       "      <td>0</td>\n",
       "      <td>0</td>\n",
       "      <td>0</td>\n",
       "      <td>0</td>\n",
       "      <td>40,2948276786438</td>\n",
       "      <td>-3,44402412135624</td>\n",
       "      <td>NaN</td>\n",
       "      <td>NaN</td>\n",
       "    </tr>\n",
       "    <tr>\n",
       "      <th>1</th>\n",
       "      <td>2</td>\n",
       "      <td>153867863</td>\n",
       "      <td>False</td>\n",
       "      <td>tecnocasa fuenlabrada ferrocarril</td>\n",
       "      <td>916358736.0</td>\n",
       "      <td>https://www.fotocasa.es/es/comprar/vivienda/ma...</td>\n",
       "      <td>3.0</td>\n",
       "      <td>1.0</td>\n",
       "      <td>NaN</td>\n",
       "      <td>89000</td>\n",
       "      <td>...</td>\n",
       "      <td>0</td>\n",
       "      <td>0</td>\n",
       "      <td>0</td>\n",
       "      <td>0</td>\n",
       "      <td>0</td>\n",
       "      <td>1</td>\n",
       "      <td>40,28674</td>\n",
       "      <td>-3,79351</td>\n",
       "      <td>NaN</td>\n",
       "      <td>NaN</td>\n",
       "    </tr>\n",
       "    <tr>\n",
       "      <th>2</th>\n",
       "      <td>3</td>\n",
       "      <td>153430440</td>\n",
       "      <td>False</td>\n",
       "      <td>look find boadilla</td>\n",
       "      <td>916350408.0</td>\n",
       "      <td>https://www.fotocasa.es/es/comprar/vivienda/ma...</td>\n",
       "      <td>2.0</td>\n",
       "      <td>2.0</td>\n",
       "      <td>99.0</td>\n",
       "      <td>390000</td>\n",
       "      <td>...</td>\n",
       "      <td>0</td>\n",
       "      <td>0</td>\n",
       "      <td>0</td>\n",
       "      <td>0</td>\n",
       "      <td>0</td>\n",
       "      <td>0</td>\n",
       "      <td>40,4115646786438</td>\n",
       "      <td>-3,90662252135624</td>\n",
       "      <td>NaN</td>\n",
       "      <td>NaN</td>\n",
       "    </tr>\n",
       "    <tr>\n",
       "      <th>3</th>\n",
       "      <td>4</td>\n",
       "      <td>152776331</td>\n",
       "      <td>False</td>\n",
       "      <td>tecnocasa fuenlabrada ferrocarril</td>\n",
       "      <td>916358736.0</td>\n",
       "      <td>https://www.fotocasa.es/es/comprar/vivienda/ma...</td>\n",
       "      <td>3.0</td>\n",
       "      <td>1.0</td>\n",
       "      <td>86.0</td>\n",
       "      <td>89000</td>\n",
       "      <td>...</td>\n",
       "      <td>0</td>\n",
       "      <td>0</td>\n",
       "      <td>0</td>\n",
       "      <td>0</td>\n",
       "      <td>0</td>\n",
       "      <td>0</td>\n",
       "      <td>40,2853785786438</td>\n",
       "      <td>-3,79508142135624</td>\n",
       "      <td>NaN</td>\n",
       "      <td>NaN</td>\n",
       "    </tr>\n",
       "    <tr>\n",
       "      <th>4</th>\n",
       "      <td>5</td>\n",
       "      <td>153180188</td>\n",
       "      <td>False</td>\n",
       "      <td>ferrari 57 inmobiliaria</td>\n",
       "      <td>912177526.0</td>\n",
       "      <td>https://www.fotocasa.es/es/comprar/vivienda/ma...</td>\n",
       "      <td>2.0</td>\n",
       "      <td>2.0</td>\n",
       "      <td>106.0</td>\n",
       "      <td>172000</td>\n",
       "      <td>...</td>\n",
       "      <td>0</td>\n",
       "      <td>0</td>\n",
       "      <td>0</td>\n",
       "      <td>0</td>\n",
       "      <td>0</td>\n",
       "      <td>0</td>\n",
       "      <td>40,2998774864376</td>\n",
       "      <td>-3,45226301356237</td>\n",
       "      <td>NaN</td>\n",
       "      <td>NaN</td>\n",
       "    </tr>\n",
       "    <tr>\n",
       "      <th>...</th>\n",
       "      <td>...</td>\n",
       "      <td>...</td>\n",
       "      <td>...</td>\n",
       "      <td>...</td>\n",
       "      <td>...</td>\n",
       "      <td>...</td>\n",
       "      <td>...</td>\n",
       "      <td>...</td>\n",
       "      <td>...</td>\n",
       "      <td>...</td>\n",
       "      <td>...</td>\n",
       "      <td>...</td>\n",
       "      <td>...</td>\n",
       "      <td>...</td>\n",
       "      <td>...</td>\n",
       "      <td>...</td>\n",
       "      <td>...</td>\n",
       "      <td>...</td>\n",
       "      <td>...</td>\n",
       "      <td>...</td>\n",
       "      <td>...</td>\n",
       "    </tr>\n",
       "    <tr>\n",
       "      <th>15330</th>\n",
       "      <td>15331</td>\n",
       "      <td>153901377</td>\n",
       "      <td>False</td>\n",
       "      <td>infocasa consulting</td>\n",
       "      <td>911360461.0</td>\n",
       "      <td>https://www.fotocasa.es/es/comprar/vivienda/ma...</td>\n",
       "      <td>2.0</td>\n",
       "      <td>1.0</td>\n",
       "      <td>96.0</td>\n",
       "      <td>259470</td>\n",
       "      <td>...</td>\n",
       "      <td>0</td>\n",
       "      <td>0</td>\n",
       "      <td>0</td>\n",
       "      <td>0</td>\n",
       "      <td>0</td>\n",
       "      <td>0</td>\n",
       "      <td>40,45416</td>\n",
       "      <td>-3,70286</td>\n",
       "      <td>NaN</td>\n",
       "      <td>NaN</td>\n",
       "    </tr>\n",
       "    <tr>\n",
       "      <th>15331</th>\n",
       "      <td>15332</td>\n",
       "      <td>150394373</td>\n",
       "      <td>False</td>\n",
       "      <td>inmobiliaria pulpon</td>\n",
       "      <td>912788039.0</td>\n",
       "      <td>https://www.fotocasa.es/es/comprar/vivienda/ma...</td>\n",
       "      <td>3.0</td>\n",
       "      <td>1.0</td>\n",
       "      <td>150.0</td>\n",
       "      <td>165000</td>\n",
       "      <td>...</td>\n",
       "      <td>0</td>\n",
       "      <td>0</td>\n",
       "      <td>0</td>\n",
       "      <td>0</td>\n",
       "      <td>0</td>\n",
       "      <td>0</td>\n",
       "      <td>40,36652</td>\n",
       "      <td>-3,48951</td>\n",
       "      <td>NaN</td>\n",
       "      <td>NaN</td>\n",
       "    </tr>\n",
       "    <tr>\n",
       "      <th>15332</th>\n",
       "      <td>15333</td>\n",
       "      <td>153901397</td>\n",
       "      <td>False</td>\n",
       "      <td>tecnocasa torrelodones</td>\n",
       "      <td>912780348.0</td>\n",
       "      <td>https://www.fotocasa.es/es/comprar/vivienda/ma...</td>\n",
       "      <td>4.0</td>\n",
       "      <td>2.0</td>\n",
       "      <td>175.0</td>\n",
       "      <td>495000</td>\n",
       "      <td>...</td>\n",
       "      <td>0</td>\n",
       "      <td>0</td>\n",
       "      <td>0</td>\n",
       "      <td>0</td>\n",
       "      <td>0</td>\n",
       "      <td>0</td>\n",
       "      <td>40,57444</td>\n",
       "      <td>-3,92124</td>\n",
       "      <td>NaN</td>\n",
       "      <td>NaN</td>\n",
       "    </tr>\n",
       "    <tr>\n",
       "      <th>15333</th>\n",
       "      <td>15334</td>\n",
       "      <td>152607440</td>\n",
       "      <td>False</td>\n",
       "      <td>inmobiliaria pulpon</td>\n",
       "      <td>912788039.0</td>\n",
       "      <td>https://www.fotocasa.es/es/comprar/vivienda/ma...</td>\n",
       "      <td>3.0</td>\n",
       "      <td>2.0</td>\n",
       "      <td>101.0</td>\n",
       "      <td>195000</td>\n",
       "      <td>...</td>\n",
       "      <td>0</td>\n",
       "      <td>0</td>\n",
       "      <td>0</td>\n",
       "      <td>0</td>\n",
       "      <td>0</td>\n",
       "      <td>0</td>\n",
       "      <td>40,36967</td>\n",
       "      <td>-3,48105</td>\n",
       "      <td>NaN</td>\n",
       "      <td>NaN</td>\n",
       "    </tr>\n",
       "    <tr>\n",
       "      <th>15334</th>\n",
       "      <td>15335</td>\n",
       "      <td>153901356</td>\n",
       "      <td>False</td>\n",
       "      <td>infocasa consulting</td>\n",
       "      <td>911360461.0</td>\n",
       "      <td>https://www.fotocasa.es/es/comprar/vivienda/ma...</td>\n",
       "      <td>3.0</td>\n",
       "      <td>2.0</td>\n",
       "      <td>152.0</td>\n",
       "      <td>765000</td>\n",
       "      <td>...</td>\n",
       "      <td>0</td>\n",
       "      <td>0</td>\n",
       "      <td>0</td>\n",
       "      <td>0</td>\n",
       "      <td>0</td>\n",
       "      <td>0</td>\n",
       "      <td>40,45773</td>\n",
       "      <td>-3,69068</td>\n",
       "      <td>NaN</td>\n",
       "      <td>NaN</td>\n",
       "    </tr>\n",
       "  </tbody>\n",
       "</table>\n",
       "<p>15335 rows × 37 columns</p>\n",
       "</div>"
      ],
      "text/plain": [
       "       Unnamed: 0  id_realEstates  isNew                    realEstate_name  \\\n",
       "0               1       153771986  False            ferrari 57 inmobiliaria   \n",
       "1               2       153867863  False  tecnocasa fuenlabrada ferrocarril   \n",
       "2               3       153430440  False                 look find boadilla   \n",
       "3               4       152776331  False  tecnocasa fuenlabrada ferrocarril   \n",
       "4               5       153180188  False            ferrari 57 inmobiliaria   \n",
       "...           ...             ...    ...                                ...   \n",
       "15330       15331       153901377  False                infocasa consulting   \n",
       "15331       15332       150394373  False                inmobiliaria pulpon   \n",
       "15332       15333       153901397  False             tecnocasa torrelodones   \n",
       "15333       15334       152607440  False                inmobiliaria pulpon   \n",
       "15334       15335       153901356  False                infocasa consulting   \n",
       "\n",
       "       phone_realEstate                                       url_inmueble  \\\n",
       "0           912177526.0  https://www.fotocasa.es/es/comprar/vivienda/ma...   \n",
       "1           916358736.0  https://www.fotocasa.es/es/comprar/vivienda/ma...   \n",
       "2           916350408.0  https://www.fotocasa.es/es/comprar/vivienda/ma...   \n",
       "3           916358736.0  https://www.fotocasa.es/es/comprar/vivienda/ma...   \n",
       "4           912177526.0  https://www.fotocasa.es/es/comprar/vivienda/ma...   \n",
       "...                 ...                                                ...   \n",
       "15330       911360461.0  https://www.fotocasa.es/es/comprar/vivienda/ma...   \n",
       "15331       912788039.0  https://www.fotocasa.es/es/comprar/vivienda/ma...   \n",
       "15332       912780348.0  https://www.fotocasa.es/es/comprar/vivienda/ma...   \n",
       "15333       912788039.0  https://www.fotocasa.es/es/comprar/vivienda/ma...   \n",
       "15334       911360461.0  https://www.fotocasa.es/es/comprar/vivienda/ma...   \n",
       "\n",
       "       rooms  bathrooms  surface   price  ... level4Id level5Id level6Id  \\\n",
       "0        3.0        2.0    103.0  195000  ...        0        0        0   \n",
       "1        3.0        1.0      NaN   89000  ...        0        0        0   \n",
       "2        2.0        2.0     99.0  390000  ...        0        0        0   \n",
       "3        3.0        1.0     86.0   89000  ...        0        0        0   \n",
       "4        2.0        2.0    106.0  172000  ...        0        0        0   \n",
       "...      ...        ...      ...     ...  ...      ...      ...      ...   \n",
       "15330    2.0        1.0     96.0  259470  ...        0        0        0   \n",
       "15331    3.0        1.0    150.0  165000  ...        0        0        0   \n",
       "15332    4.0        2.0    175.0  495000  ...        0        0        0   \n",
       "15333    3.0        2.0    101.0  195000  ...        0        0        0   \n",
       "15334    3.0        2.0    152.0  765000  ...        0        0        0   \n",
       "\n",
       "      level7Id level8Id accuracy          latitude          longitude zipCode  \\\n",
       "0            0        0        0  40,2948276786438  -3,44402412135624     NaN   \n",
       "1            0        0        1          40,28674           -3,79351     NaN   \n",
       "2            0        0        0  40,4115646786438  -3,90662252135624     NaN   \n",
       "3            0        0        0  40,2853785786438  -3,79508142135624     NaN   \n",
       "4            0        0        0  40,2998774864376  -3,45226301356237     NaN   \n",
       "...        ...      ...      ...               ...                ...     ...   \n",
       "15330        0        0        0          40,45416           -3,70286     NaN   \n",
       "15331        0        0        0          40,36652           -3,48951     NaN   \n",
       "15332        0        0        0          40,57444           -3,92124     NaN   \n",
       "15333        0        0        0          40,36967           -3,48105     NaN   \n",
       "15334        0        0        0          40,45773           -3,69068     NaN   \n",
       "\n",
       "      customZone  \n",
       "0            NaN  \n",
       "1            NaN  \n",
       "2            NaN  \n",
       "3            NaN  \n",
       "4            NaN  \n",
       "...          ...  \n",
       "15330        NaN  \n",
       "15331        NaN  \n",
       "15332        NaN  \n",
       "15333        NaN  \n",
       "15334        NaN  \n",
       "\n",
       "[15335 rows x 37 columns]"
      ]
     },
     "execution_count": 56,
     "metadata": {},
     "output_type": "execute_result"
    }
   ],
   "source": [
    "import pandas as pd\n",
    "\n",
    "ds = pd.read_csv('assets/real_estate.csv', sep=';')\n",
    "ds"
   ]
  },
  {
   "attachments": {},
   "cell_type": "markdown",
   "id": "latin-guest",
   "metadata": {},
   "source": [
    "#### Exercise 01. Which is the most expensive house in the dataset? (★☆☆)\n",
    "\n",
    "Print the address and the price of the selected house. For example:\n",
    "\n",
    "`The house with address General Street Nº5 is the most expensive and its price is 5000000 USD`"
   ]
  },
  {
   "cell_type": "code",
   "execution_count": 57,
   "id": "developing-optimum",
   "metadata": {},
   "outputs": [
    {
     "name": "stdout",
     "output_type": "stream",
     "text": [
      "Most Expensive Home:\n",
      "id_realEstates: 13110\n",
      "Real Estate Agency: engel volkers torrelodones\n",
      "Price: 8500000\n",
      "Location City: Madrid\n",
      "Location Zone: Zona Noroeste\n",
      "Location Zone of: El Escorial, Zona de\n",
      "# of bedrooms: 19.0\n",
      "# of bathrooms: nan\n",
      "Surface area: nan\n"
     ]
    }
   ],
   "source": [
    "ds['price'] = pd.to_numeric(ds['price'], errors='coerce')\n",
    "\n",
    "ds = ds.dropna(subset=['price'])\n",
    "\n",
    "most_expensive_index = ds['price'].idxmax()\n",
    "\n",
    "most_expensive_home = ds.loc[most_expensive_index]\n",
    "\n",
    "print(\"Most Expensive Home:\")\n",
    "print(\"id_realEstates:\", ds['price'].idxmax()) \n",
    "print(\"Real Estate Agency:\", most_expensive_home['realEstate_name'])\n",
    "print(\"Price:\", most_expensive_home['price'])\n",
    "print(\"Location City:\", most_expensive_home['level2'])\n",
    "print(\"Location Zone:\", most_expensive_home['level3'])\n",
    "print(\"Location Zone of:\", most_expensive_home['level4'])\n",
    "print(\"# of bedrooms:\", most_expensive_home['rooms'])\n",
    "print(\"# of bathrooms:\", most_expensive_home['bathrooms'])\n",
    "print(\"Surface area:\", most_expensive_home['surface'])\n"
   ]
  },
  {
   "attachments": {},
   "cell_type": "markdown",
   "id": "lesser-cosmetic",
   "metadata": {},
   "source": [
    "#### Exercise 02. Which is cheapest house in the dataset? (★☆☆)\n",
    "\n",
    "Print the address and the price of the selected house. For example:\n",
    "\n",
    "`The house with address Concrete Street Nº1 is the cheapest and its price is 12000 USD`"
   ]
  },
  {
   "cell_type": "code",
   "execution_count": 58,
   "id": "lovely-oasis",
   "metadata": {},
   "outputs": [
    {
     "name": "stdout",
     "output_type": "stream",
     "text": [
      "number of rows prices 60\n"
     ]
    }
   ],
   "source": [
    "zero_count_price=(ds[\"price\"]==0).sum()\n",
    "print(\"number of rows prices\",zero_count_price)"
   ]
  },
  {
   "cell_type": "code",
   "execution_count": 59,
   "id": "af47959e",
   "metadata": {},
   "outputs": [
    {
     "data": {
      "text/plain": [
       "0        True\n",
       "1        True\n",
       "2        True\n",
       "3        True\n",
       "4        True\n",
       "         ... \n",
       "15330    True\n",
       "15331    True\n",
       "15332    True\n",
       "15333    True\n",
       "15334    True\n",
       "Name: price, Length: 15335, dtype: bool"
      ]
     },
     "execution_count": 59,
     "metadata": {},
     "output_type": "execute_result"
    }
   ],
   "source": [
    "ds[\"price\"].notnull()"
   ]
  },
  {
   "cell_type": "code",
   "execution_count": 60,
   "id": "4df2f7fb",
   "metadata": {},
   "outputs": [],
   "source": [
    "home_price=ds[ds[\"price\"]>0 & ds[\"price\"].notnull()]\n"
   ]
  },
  {
   "cell_type": "code",
   "execution_count": 61,
   "id": "07ecd53b",
   "metadata": {},
   "outputs": [
    {
     "name": "stdout",
     "output_type": "stream",
     "text": [
      "1st Cheapest Home:\n",
      "Real Estate Agency: redpiso coslada\n",
      "Id_Real state: 7491\n",
      "Price: 600\n",
      "Location City: Madrid\n",
      "Location Zone: Corredor del Henares\n",
      "Location Zone of: Coslada, Zona de\n",
      "# of bedrooms: 3.0\n",
      "# of bathrooms: 1.0\n",
      "Surface area: 80.0\n",
      " \n",
      "2nd Cheapest Home:\n",
      "Real Estate Agency: haya real estate\n",
      "Price: 16200\n",
      "Location City: Madrid\n",
      "Location Zone: Corredor del Henares\n",
      "Location Zone of: Los Santos, Zona de\n",
      "# of bedrooms: 1.0\n",
      "# of bathrooms: 1.0\n",
      "Surface area: 68.0\n"
     ]
    }
   ],
   "source": [
    "\n",
    "cheapest = home_price[home_price['price'] == home_price['price'].min()]\n",
    "second_cheapest_home = home_price.nsmallest(2, 'price').iloc[-1]\n",
    "\n",
    "print(\"1st Cheapest Home:\")\n",
    "print(\"Real Estate Agency:\", cheapest['realEstate_name'].values[0])\n",
    "print(\"Id_Real state:\",cheapest[\"price\"].idxmin())\n",
    "print(\"Price:\", cheapest['price'].values[0])\n",
    "print(\"Location City:\", cheapest['level2'].values[0])\n",
    "print(\"Location Zone:\", cheapest['level3'].values[0])\n",
    "print(\"Location Zone of:\", cheapest['level4'].values[0])\n",
    "print(\"# of bedrooms:\", cheapest['rooms'].values[0])\n",
    "print(\"# of bathrooms:\", cheapest['bathrooms'].values[0])\n",
    "print(\"Surface area:\", cheapest['surface'].values[0])\n",
    "\n",
    "\n",
    "print(\" \")\n",
    "print(\"2nd Cheapest Home:\")\n",
    "print(\"Real Estate Agency:\", second_cheapest_home['realEstate_name'])\n",
    "print(\"Price:\", second_cheapest_home['price'])\n",
    "print(\"Location City:\", second_cheapest_home['level2'])\n",
    "print(\"Location Zone:\", second_cheapest_home['level3'])\n",
    "print(\"Location Zone of:\", second_cheapest_home['level4'])\n",
    "print(\"# of bedrooms:\", second_cheapest_home['rooms'])\n",
    "print(\"# of bathrooms:\", second_cheapest_home['bathrooms'])\n",
    "print(\"Surface area:\", second_cheapest_home['surface'])"
   ]
  },
  {
   "attachments": {},
   "cell_type": "markdown",
   "id": "compliant-fellowship",
   "metadata": {},
   "source": [
    "#### Exercise 03. Which is the biggest and the smallest house in the dataset? (★☆☆)\n",
    "\n",
    "Print both the address and the surface of the selected houses. For example:\n",
    "\n",
    "`The bigger house is located on Yukka Street Nº10 and its surface is 5000 meters`\n",
    "\n",
    "`The smaller house is located on County Road 1 N and its surface is 200 meters`"
   ]
  },
  {
   "cell_type": "code",
   "execution_count": 62,
   "id": "515eec3f",
   "metadata": {},
   "outputs": [
    {
     "name": "stdout",
     "output_type": "stream",
     "text": [
      "nan, 1250\n"
     ]
    }
   ],
   "source": [
    "nan_count_surface=ds[\"surface\"].isna().sum()\n",
    "print(\"nan,\",nan_count_surface)"
   ]
  },
  {
   "cell_type": "code",
   "execution_count": 63,
   "id": "5bd84032",
   "metadata": {},
   "outputs": [],
   "source": [
    "ds_clean=ds.dropna(subset=[\"surface\"])"
   ]
  },
  {
   "cell_type": "code",
   "execution_count": 64,
   "id": "647e0a6c",
   "metadata": {},
   "outputs": [
    {
     "name": "stdout",
     "output_type": "stream",
     "text": [
      "Number of zero values in the 'surface' column: 0\n",
      "Details of surface area of biggest home:\n",
      "Real Estate Agency: habitarium inmobiliaria\n",
      "Real Estate: 6794\n",
      "Surface area: 249000.0\n",
      "Price: 289000\n",
      "Location City: Madrid\n",
      "Location Zone: Zona Suroeste\n",
      "Location Zone of: Sevilla la Nueva, Zona de\n",
      "# of bedrooms: 3.0\n",
      "# of bathrooms: 2.0\n",
      "Details of surface area of smallest home:\n",
      "Real Estate Agency: toledo21\n",
      "Real Estate: 498\n",
      "Surface area: 15.0\n",
      "Price: 85000\n",
      "Location City: Madrid\n",
      "Location Zone: Madrid, Zona de\n",
      "Location Zone of: nan\n",
      "# of bedrooms: 1.0\n",
      "# of bathrooms: 1.0\n"
     ]
    },
    {
     "data": {
      "text/html": [
       "<div>\n",
       "<style scoped>\n",
       "    .dataframe tbody tr th:only-of-type {\n",
       "        vertical-align: middle;\n",
       "    }\n",
       "\n",
       "    .dataframe tbody tr th {\n",
       "        vertical-align: top;\n",
       "    }\n",
       "\n",
       "    .dataframe thead th {\n",
       "        text-align: right;\n",
       "    }\n",
       "</style>\n",
       "<table border=\"1\" class=\"dataframe\">\n",
       "  <thead>\n",
       "    <tr style=\"text-align: right;\">\n",
       "      <th></th>\n",
       "      <th>Unnamed: 0</th>\n",
       "      <th>id_realEstates</th>\n",
       "      <th>isNew</th>\n",
       "      <th>realEstate_name</th>\n",
       "      <th>phone_realEstate</th>\n",
       "      <th>url_inmueble</th>\n",
       "      <th>rooms</th>\n",
       "      <th>bathrooms</th>\n",
       "      <th>surface</th>\n",
       "      <th>price</th>\n",
       "      <th>...</th>\n",
       "      <th>level4Id</th>\n",
       "      <th>level5Id</th>\n",
       "      <th>level6Id</th>\n",
       "      <th>level7Id</th>\n",
       "      <th>level8Id</th>\n",
       "      <th>accuracy</th>\n",
       "      <th>latitude</th>\n",
       "      <th>longitude</th>\n",
       "      <th>zipCode</th>\n",
       "      <th>customZone</th>\n",
       "    </tr>\n",
       "  </thead>\n",
       "  <tbody>\n",
       "    <tr>\n",
       "      <th>498</th>\n",
       "      <td>499</td>\n",
       "      <td>152817874</td>\n",
       "      <td>False</td>\n",
       "      <td>toledo21</td>\n",
       "      <td>910757382.0</td>\n",
       "      <td>https://www.fotocasa.es/es/comprar/vivienda/ma...</td>\n",
       "      <td>1.0</td>\n",
       "      <td>1.0</td>\n",
       "      <td>15.0</td>\n",
       "      <td>85000</td>\n",
       "      <td>...</td>\n",
       "      <td>0</td>\n",
       "      <td>0</td>\n",
       "      <td>0</td>\n",
       "      <td>0</td>\n",
       "      <td>0</td>\n",
       "      <td>0</td>\n",
       "      <td>40,40818</td>\n",
       "      <td>-3,70192</td>\n",
       "      <td>NaN</td>\n",
       "      <td>NaN</td>\n",
       "    </tr>\n",
       "    <tr>\n",
       "      <th>14361</th>\n",
       "      <td>14362</td>\n",
       "      <td>153920125</td>\n",
       "      <td>False</td>\n",
       "      <td>infocasa consulting</td>\n",
       "      <td>911360461.0</td>\n",
       "      <td>https://www.fotocasa.es/es/comprar/vivienda/al...</td>\n",
       "      <td>NaN</td>\n",
       "      <td>1.0</td>\n",
       "      <td>18.0</td>\n",
       "      <td>89000</td>\n",
       "      <td>...</td>\n",
       "      <td>0</td>\n",
       "      <td>0</td>\n",
       "      <td>0</td>\n",
       "      <td>0</td>\n",
       "      <td>0</td>\n",
       "      <td>0</td>\n",
       "      <td>40,40733</td>\n",
       "      <td>-3,69876</td>\n",
       "      <td>NaN</td>\n",
       "      <td>NaN</td>\n",
       "    </tr>\n",
       "    <tr>\n",
       "      <th>15320</th>\n",
       "      <td>15321</td>\n",
       "      <td>153901533</td>\n",
       "      <td>False</td>\n",
       "      <td>infocasa consulting</td>\n",
       "      <td>911360461.0</td>\n",
       "      <td>https://www.fotocasa.es/es/comprar/vivienda/ma...</td>\n",
       "      <td>NaN</td>\n",
       "      <td>1.0</td>\n",
       "      <td>18.0</td>\n",
       "      <td>89000</td>\n",
       "      <td>...</td>\n",
       "      <td>0</td>\n",
       "      <td>0</td>\n",
       "      <td>0</td>\n",
       "      <td>0</td>\n",
       "      <td>0</td>\n",
       "      <td>0</td>\n",
       "      <td>40,40733</td>\n",
       "      <td>-3,69876</td>\n",
       "      <td>NaN</td>\n",
       "      <td>NaN</td>\n",
       "    </tr>\n",
       "    <tr>\n",
       "      <th>1888</th>\n",
       "      <td>1889</td>\n",
       "      <td>153989797</td>\n",
       "      <td>False</td>\n",
       "      <td>vivienda2</td>\n",
       "      <td>912188609.0</td>\n",
       "      <td>https://www.fotocasa.es/vivienda/madrid-capita...</td>\n",
       "      <td>NaN</td>\n",
       "      <td>1.0</td>\n",
       "      <td>21.0</td>\n",
       "      <td>169000</td>\n",
       "      <td>...</td>\n",
       "      <td>0</td>\n",
       "      <td>0</td>\n",
       "      <td>0</td>\n",
       "      <td>0</td>\n",
       "      <td>0</td>\n",
       "      <td>0</td>\n",
       "      <td>40,4002202213562</td>\n",
       "      <td>-3,70302392135624</td>\n",
       "      <td>NaN</td>\n",
       "      <td>NaN</td>\n",
       "    </tr>\n",
       "    <tr>\n",
       "      <th>9682</th>\n",
       "      <td>9683</td>\n",
       "      <td>153962563</td>\n",
       "      <td>False</td>\n",
       "      <td>haya real estate</td>\n",
       "      <td>911227078.0</td>\n",
       "      <td>https://www.fotocasa.es/es/comprar/vivienda/co...</td>\n",
       "      <td>1.0</td>\n",
       "      <td>1.0</td>\n",
       "      <td>21.0</td>\n",
       "      <td>94000</td>\n",
       "      <td>...</td>\n",
       "      <td>0</td>\n",
       "      <td>0</td>\n",
       "      <td>0</td>\n",
       "      <td>0</td>\n",
       "      <td>0</td>\n",
       "      <td>0</td>\n",
       "      <td>40,42421257</td>\n",
       "      <td>-3,66674429</td>\n",
       "      <td>NaN</td>\n",
       "      <td>NaN</td>\n",
       "    </tr>\n",
       "  </tbody>\n",
       "</table>\n",
       "<p>5 rows × 37 columns</p>\n",
       "</div>"
      ],
      "text/plain": [
       "       Unnamed: 0  id_realEstates  isNew      realEstate_name  \\\n",
       "498           499       152817874  False             toledo21   \n",
       "14361       14362       153920125  False  infocasa consulting   \n",
       "15320       15321       153901533  False  infocasa consulting   \n",
       "1888         1889       153989797  False            vivienda2   \n",
       "9682         9683       153962563  False     haya real estate   \n",
       "\n",
       "       phone_realEstate                                       url_inmueble  \\\n",
       "498         910757382.0  https://www.fotocasa.es/es/comprar/vivienda/ma...   \n",
       "14361       911360461.0  https://www.fotocasa.es/es/comprar/vivienda/al...   \n",
       "15320       911360461.0  https://www.fotocasa.es/es/comprar/vivienda/ma...   \n",
       "1888        912188609.0  https://www.fotocasa.es/vivienda/madrid-capita...   \n",
       "9682        911227078.0  https://www.fotocasa.es/es/comprar/vivienda/co...   \n",
       "\n",
       "       rooms  bathrooms  surface   price  ... level4Id level5Id level6Id  \\\n",
       "498      1.0        1.0     15.0   85000  ...        0        0        0   \n",
       "14361    NaN        1.0     18.0   89000  ...        0        0        0   \n",
       "15320    NaN        1.0     18.0   89000  ...        0        0        0   \n",
       "1888     NaN        1.0     21.0  169000  ...        0        0        0   \n",
       "9682     1.0        1.0     21.0   94000  ...        0        0        0   \n",
       "\n",
       "      level7Id level8Id accuracy          latitude          longitude zipCode  \\\n",
       "498          0        0        0          40,40818           -3,70192     NaN   \n",
       "14361        0        0        0          40,40733           -3,69876     NaN   \n",
       "15320        0        0        0          40,40733           -3,69876     NaN   \n",
       "1888         0        0        0  40,4002202213562  -3,70302392135624     NaN   \n",
       "9682         0        0        0       40,42421257        -3,66674429     NaN   \n",
       "\n",
       "      customZone  \n",
       "498          NaN  \n",
       "14361        NaN  \n",
       "15320        NaN  \n",
       "1888         NaN  \n",
       "9682         NaN  \n",
       "\n",
       "[5 rows x 37 columns]"
      ]
     },
     "execution_count": 64,
     "metadata": {},
     "output_type": "execute_result"
    }
   ],
   "source": [
    "zero_surface_count = (ds_clean['surface'] == 0).sum()\n",
    "print(\"Number of zero values in the 'surface' column:\", zero_surface_count)\n",
    "\n",
    "ds_surface_sorted = ds_clean.sort_values(by='surface')\n",
    "\n",
    "biggest_home = ds_surface_sorted.iloc[-1]\n",
    "\n",
    "smallest_home = ds_surface_sorted.iloc[0]\n",
    "\n",
    "print(\"Details of surface area of biggest home:\")\n",
    "print(\"Real Estate Agency:\", biggest_home['realEstate_name'])\n",
    "print(\"Real Estate:\",ds_clean['surface'].idxmax()) \n",
    "print(\"Surface area:\", biggest_home['surface'])\n",
    "print(\"Price:\", biggest_home['price'])\n",
    "print(\"Location City:\", biggest_home['level2'])\n",
    "print(\"Location Zone:\", biggest_home['level3'])\n",
    "print(\"Location Zone of:\", biggest_home['level4'])\n",
    "print(\"# of bedrooms:\", biggest_home['rooms'])\n",
    "print(\"# of bathrooms:\", biggest_home['bathrooms'])\n",
    "\n",
    "largest_surface_homes = ds_surface_sorted.nlargest(5, 'surface')\n",
    "pd.DataFrame(largest_surface_homes)\n",
    "\n",
    "\n",
    "\n",
    "print(\"Details of surface area of smallest home:\")\n",
    "print(\"Real Estate Agency:\", smallest_home['realEstate_name'])\n",
    "print(\"Real Estate:\",ds_clean['surface'].idxmin()) \n",
    "print(\"Surface area:\", smallest_home['surface'])\n",
    "print(\"Price:\", smallest_home['price'])\n",
    "print(\"Location City:\", smallest_home['level2'])\n",
    "print(\"Location Zone:\", smallest_home['level3'])\n",
    "print(\"Location Zone of:\", smallest_home['level4'])\n",
    "print(\"# of bedrooms:\", smallest_home['rooms'])\n",
    "print(\"# of bathrooms:\", smallest_home['bathrooms'])\n",
    "\n",
    "smallest_surface_homes = ds_surface_sorted.nsmallest(5, 'surface')\n",
    "pd.DataFrame(smallest_surface_homes)\n"
   ]
  },
  {
   "attachments": {},
   "cell_type": "markdown",
   "id": "danish-spirit",
   "metadata": {},
   "source": [
    "#### Exercise 04. How many populations (level5 column) the dataset contains? (★☆☆)\n",
    "\n",
    "Print the name of the populations with comma as separator. For example:\n",
    "\n",
    "`> print(populations)`\n",
    "\n",
    "`population1, population2, population3,...`"
   ]
  },
  {
   "cell_type": "code",
   "execution_count": 65,
   "id": "27a89e38",
   "metadata": {},
   "outputs": [
    {
     "name": "stdout",
     "output_type": "stream",
     "text": [
      "168\n"
     ]
    }
   ],
   "source": [
    "populations=ds['level5'].unique()\n",
    "number_populations=len(populations)\n",
    "print(number_populations)"
   ]
  },
  {
   "attachments": {},
   "cell_type": "markdown",
   "id": "crazy-blame",
   "metadata": {},
   "source": [
    "#### Exercise 05. Does the dataset contain NAs? (★☆☆)\n",
    "\n",
    "Print a boolean value (`true` or `fase`) followed by the rows/cols that contains NAs."
   ]
  },
  {
   "cell_type": "code",
   "execution_count": 66,
   "id": "0173b6d1",
   "metadata": {},
   "outputs": [
    {
     "name": "stdout",
     "output_type": "stream",
     "text": [
      "Unnamed: 0              0\n",
      "id_realEstates          0\n",
      "isNew                   0\n",
      "realEstate_name        10\n",
      "phone_realEstate      794\n",
      "url_inmueble            0\n",
      "rooms                 353\n",
      "bathrooms             345\n",
      "surface              1250\n",
      "price                   0\n",
      "date                    0\n",
      "description           142\n",
      "address                 0\n",
      "country                 0\n",
      "level1                  0\n",
      "level2                  0\n",
      "level3                  0\n",
      "level4               6643\n",
      "level5                  0\n",
      "level6              14627\n",
      "level7               2277\n",
      "level8               8579\n",
      "upperLevel              0\n",
      "countryId               0\n",
      "level1Id                0\n",
      "level2Id                0\n",
      "level3Id                0\n",
      "level4Id                0\n",
      "level5Id                0\n",
      "level6Id                0\n",
      "level7Id                0\n",
      "level8Id                0\n",
      "accuracy                0\n",
      "latitude                0\n",
      "longitude               0\n",
      "zipCode             15335\n",
      "customZone          15335\n",
      "dtype: int64\n"
     ]
    }
   ],
   "source": [
    "contain_nas=ds.isna().sum()\n",
    "print(contain_nas)"
   ]
  },
  {
   "attachments": {},
   "cell_type": "markdown",
   "id": "italic-hydrogen",
   "metadata": {},
   "source": [
    "#### Exercise 06. Delete the NAs of the dataset, if applicable (★★☆)\n",
    "\n",
    "Print a comparison between the dimensions of the original DataFrame versus the DataFrame after the deletions"
   ]
  },
  {
   "cell_type": "code",
   "execution_count": 67,
   "id": "administrative-roads",
   "metadata": {},
   "outputs": [
    {
     "data": {
      "text/plain": [
       "Unnamed: 0          0\n",
       "id_realEstates      0\n",
       "isNew               0\n",
       "realEstate_name     0\n",
       "phone_realEstate    0\n",
       "url_inmueble        0\n",
       "rooms               0\n",
       "bathrooms           0\n",
       "surface             0\n",
       "price               0\n",
       "date                0\n",
       "description         0\n",
       "address             0\n",
       "country             0\n",
       "level1              0\n",
       "level2              0\n",
       "level3              0\n",
       "level4              0\n",
       "level5              0\n",
       "level6              0\n",
       "level7              0\n",
       "level8              0\n",
       "upperLevel          0\n",
       "countryId           0\n",
       "level1Id            0\n",
       "level2Id            0\n",
       "level3Id            0\n",
       "level4Id            0\n",
       "level5Id            0\n",
       "level6Id            0\n",
       "level7Id            0\n",
       "level8Id            0\n",
       "accuracy            0\n",
       "latitude            0\n",
       "longitude           0\n",
       "zipCode             0\n",
       "customZone          0\n",
       "dtype: int64"
      ]
     },
     "execution_count": 67,
     "metadata": {},
     "output_type": "execute_result"
    }
   ],
   "source": [
    "df_realestate_drop=ds.dropna()\n",
    "df_realestate_drop.isna().sum()"
   ]
  },
  {
   "attachments": {},
   "cell_type": "markdown",
   "id": "middle-china",
   "metadata": {},
   "source": [
    "#### Exercise 07. Which is the mean of prices in the population (level5 column) of \"Arroyomolinos (Madrid)\"? (★★☆)\n",
    "\n",
    "Print the obtained value"
   ]
  },
  {
   "cell_type": "code",
   "execution_count": 68,
   "id": "nuclear-belief",
   "metadata": {},
   "outputs": [
    {
     "name": "stdout",
     "output_type": "stream",
     "text": [
      "Mean price in Arroyomolinos (Madrid): 294541.59854014596\n"
     ]
    }
   ],
   "source": [
    "price_arroyomolinos=ds[ds[\"level5\"]==\"Arroyomolinos (Madrid)\"]\n",
    "mean_price_arroyomolinos=price_arroyomolinos['price'].mean()\n",
    "print(\"Mean price in Arroyomolinos (Madrid):\", mean_price_arroyomolinos)"
   ]
  },
  {
   "attachments": {},
   "cell_type": "markdown",
   "id": "concerned-radical",
   "metadata": {},
   "source": [
    "#### Exercise 08. Plot the histogram of prices for the population (level5 column) of \"Arroyomolinos (Madrid)\" and explain what you observe (★★☆)\n",
    "\n",
    "Print the histogram of the prices and write in the Markdown cell a brief analysis about the plot."
   ]
  },
  {
   "cell_type": "code",
   "execution_count": 69,
   "id": "sudden-message",
   "metadata": {},
   "outputs": [
    {
     "data": {
      "image/png": "[encoded data removed]",
      "text/plain": [
       "<Figure size 1000x600 with 1 Axes>"
      ]
     },
     "metadata": {},
     "output_type": "display_data"
    }
   ],
   "source": [
    "import matplotlib.pyplot as plt\n",
    "arroyomolinos_prices = price_arroyomolinos['price']\n",
    "plt.figure(figsize=(10, 6))\n",
    "plt.hist(arroyomolinos_prices, bins=20, color='blue', edgecolor='black')\n",
    "plt.title('Histogram of Prices in Arroyomolinos (Madrid)')\n",
    "plt.xlabel('Price')\n",
    "plt.ylabel('Frequency')\n",
    "plt.grid(True)\n",
    "plt.show()"
   ]
  },
  {
   "cell_type": "markdown",
   "id": "3c0b7a6d",
   "metadata": {},
   "source": [
    "under 30000 is frequency movement. Over 300000 does not have frequency. "
   ]
  },
  {
   "cell_type": "markdown",
   "id": "9de37184",
   "metadata": {},
   "source": []
  },
  {
   "cell_type": "code",
   "execution_count": 70,
   "id": "be8c06e8",
   "metadata": {},
   "outputs": [
    {
     "name": "stdout",
     "output_type": "stream",
     "text": [
      "Requirement already satisfied: seaborn in /home/gitpod/.pyenv/versions/3.11.5/lib/python3.11/site-packages (0.13.0)\n",
      "Requirement already satisfied: numpy!=1.24.0,>=1.20 in /workspace/.pyenv_mirror/user/current/lib/python3.11/site-packages (from seaborn) (1.26.0)\n",
      "Requirement already satisfied: pandas>=1.2 in /workspace/.pyenv_mirror/user/current/lib/python3.11/site-packages (from seaborn) (2.1.1)\n",
      "Requirement already satisfied: matplotlib!=3.6.1,>=3.3 in /workspace/.pyenv_mirror/user/current/lib/python3.11/site-packages (from seaborn) (3.8.0)\n",
      "Requirement already satisfied: contourpy>=1.0.1 in /workspace/.pyenv_mirror/user/current/lib/python3.11/site-packages (from matplotlib!=3.6.1,>=3.3->seaborn) (1.1.1)\n",
      "Requirement already satisfied: cycler>=0.10 in /workspace/.pyenv_mirror/user/current/lib/python3.11/site-packages (from matplotlib!=3.6.1,>=3.3->seaborn) (0.11.0)\n",
      "Requirement already satisfied: fonttools>=4.22.0 in /workspace/.pyenv_mirror/user/current/lib/python3.11/site-packages (from matplotlib!=3.6.1,>=3.3->seaborn) (4.42.1)\n",
      "Requirement already satisfied: kiwisolver>=1.0.1 in /workspace/.pyenv_mirror/user/current/lib/python3.11/site-packages (from matplotlib!=3.6.1,>=3.3->seaborn) (1.4.5)\n",
      "Requirement already satisfied: packaging>=20.0 in /home/gitpod/.pyenv/versions/3.11.5/lib/python3.11/site-packages (from matplotlib!=3.6.1,>=3.3->seaborn) (23.1)\n",
      "Requirement already satisfied: pillow>=6.2.0 in /workspace/.pyenv_mirror/user/current/lib/python3.11/site-packages (from matplotlib!=3.6.1,>=3.3->seaborn) (10.0.1)\n",
      "Requirement already satisfied: pyparsing>=2.3.1 in /workspace/.pyenv_mirror/user/current/lib/python3.11/site-packages (from matplotlib!=3.6.1,>=3.3->seaborn) (3.1.1)\n",
      "Requirement already satisfied: python-dateutil>=2.7 in /home/gitpod/.pyenv/versions/3.11.5/lib/python3.11/site-packages (from matplotlib!=3.6.1,>=3.3->seaborn) (2.8.2)\n",
      "Requirement already satisfied: pytz>=2020.1 in /workspace/.pyenv_mirror/user/current/lib/python3.11/site-packages (from pandas>=1.2->seaborn) (2023.3.post1)\n",
      "Requirement already satisfied: tzdata>=2022.1 in /workspace/.pyenv_mirror/user/current/lib/python3.11/site-packages (from pandas>=1.2->seaborn) (2023.3)\n",
      "Requirement already satisfied: six>=1.5 in /home/gitpod/.pyenv/versions/3.11.5/lib/python3.11/site-packages (from python-dateutil>=2.7->matplotlib!=3.6.1,>=3.3->seaborn) (1.16.0)\n"
     ]
    }
   ],
   "source": [
    "!pip install seaborn"
   ]
  },
  {
   "cell_type": "code",
   "execution_count": 71,
   "id": "1463f782",
   "metadata": {},
   "outputs": [
    {
     "data": {
      "image/png": "[encoded data removed]",
      "text/plain": [
       "<Figure size 1000x600 with 1 Axes>"
      ]
     },
     "metadata": {},
     "output_type": "display_data"
    }
   ],
   "source": [
    "import seaborn as sns\n",
    "plt.figure(figsize=(10, 6))\n",
    "sns.boxplot(x=arroyomolinos_prices)\n",
    "plt.title('Boxplot of Pricesfor Arroyomolinos (Madrid)')\n",
    "plt.xlabel('Price')\n",
    "plt.show()"
   ]
  },
  {
   "attachments": {},
   "cell_type": "markdown",
   "id": "impressed-combination",
   "metadata": {},
   "source": [
    "**TODO: Markdown**. To write here, double click to this cell and just remove this content and place the text you want to write. Then, execute the cell."
   ]
  },
  {
   "attachments": {},
   "cell_type": "markdown",
   "id": "actual-edinburgh",
   "metadata": {},
   "source": [
    " #### Exercise 09. Is the average of \"Valdemorillo\" and \"Galapagar\" prices the same? (★★☆)\n",
    "\n",
    "Print the both average prices and then write a conclusion about them"
   ]
  },
  {
   "cell_type": "code",
   "execution_count": 72,
   "id": "ec793888",
   "metadata": {},
   "outputs": [
    {
     "name": "stdout",
     "output_type": "stream",
     "text": [
      "\n",
      "Valdemorillo this is the average of the:price 363860.2931034483\n",
      "Galapagar  this is the average of the:price 360063.20238095237\n",
      "No the average is not the same\n"
     ]
    }
   ],
   "source": [
    "filtered_data_frame = ds[['level5', 'price']]\n",
    "populations_to_filter = ('Valdemorillo', 'Galapagar')\n",
    "population_data_frames_dict = {\n",
    "    population: filtered_data_frame[filtered_data_frame['level5'] == population].dropna()\n",
    "    for population in populations_to_filter\n",
    "}\n",
    "valdemorillo_average_price = population_data_frames_dict[populations_to_filter[0]]['price'].mean()\n",
    "galapagar_average_price = population_data_frames_dict[populations_to_filter[1]]['price'].mean()\n",
    "print()\n",
    "print(f\"{populations_to_filter[0]} this is the average of the:price {valdemorillo_average_price}\")\n",
    "print(f\"{populations_to_filter[1]}  this is the average of the:price {galapagar_average_price}\")\n",
    "if valdemorillo_average_price == galapagar_average_price:\n",
    "    print(\"If the average price is the same\")\n",
    "else:\n",
    "    print(\"No the average is not the same\")\n"
   ]
  },
  {
   "attachments": {},
   "cell_type": "markdown",
   "id": "lonely-article",
   "metadata": {},
   "source": [
    "#### Exercise 10. Is the average of \"Valdemorillo\" and \"Galapagar\" price per square meter (price/m2) the same? (★★☆)\n",
    "\n",
    "Print the both average prices and then write a conclusion about\n",
    "\n",
    "Hint: Create a new column called `pps` (price per square) and then analyse the values"
   ]
  },
  {
   "cell_type": "code",
   "execution_count": 73,
   "id": "hourly-globe",
   "metadata": {},
   "outputs": [
    {
     "name": "stdout",
     "output_type": "stream",
     "text": [
      "Average Price in Valdemorillo: 363860.2931034483\n",
      "Average Price in Galapagar: 360063.20238095237\n",
      "The average price in Valdemorillo is higher than in Galapagar.\n",
      "The price difference is 3797.09 units.\n"
     ]
    }
   ],
   "source": [
    "valdemorillo_properties = ds[ds['level5'] == 'Valdemorillo'].copy()\n",
    "galapagar_properties = ds[ds['level5'] == 'Galapagar'].copy()\n",
    "\n",
    "avg_price_valdemorillo = valdemorillo_properties['price'].mean()\n",
    "avg_price_galapagar = galapagar_properties['price'].mean()\n",
    "\n",
    "print(\"Average Price in Valdemorillo:\", avg_price_valdemorillo)\n",
    "print(\"Average Price in Galapagar:\", avg_price_galapagar)\n",
    "\n",
    "price_difference = abs(avg_price_valdemorillo - avg_price_galapagar)\n",
    "\n",
    "\n",
    "if avg_price_valdemorillo > avg_price_galapagar:\n",
    "    print(\"The average price in Valdemorillo is higher than in Galapagar.\")\n",
    "    print(f\"The price difference is {price_difference:.2f} units.\")\n",
    "\n",
    "elif avg_price_valdemorillo < avg_price_galapagar:\n",
    "    print(\"The average price in Galapagar is higher than in Valdemorillo.\")\n",
    "    print(f\"The price difference is {price_difference:.2f} euros.\")\n",
    "\n",
    "else:\n",
    "    print(\"The average prices in Valdemorillo and Galapagar are the same.\")\n"
   ]
  },
  {
   "cell_type": "code",
   "execution_count": 74,
   "id": "250a68f9",
   "metadata": {},
   "outputs": [
    {
     "name": "stdout",
     "output_type": "stream",
     "text": [
      "Average price per square meter in Valdemorillo: 1317.9502109024986\n",
      "Average price per square meter in Galapagar: 1606.3240303094024\n",
      "The average price per square meter in Galapagar is higher than in Valdemorillo.\n"
     ]
    }
   ],
   "source": [
    "valdemorillo_properties['price_per_sqm'] = valdemorillo_properties['price'] / valdemorillo_properties['surface']\n",
    "galapagar_properties['price_per_sqm'] = galapagar_properties['price'] / galapagar_properties['surface']\n",
    "\n",
    "avg_price_per_sqm_valdemorillo = valdemorillo_properties['price_per_sqm'].mean()\n",
    "avg_price_per_sqm_galapagar = galapagar_properties['price_per_sqm'].mean()\n",
    "\n",
    "print(\"Average price per square meter in Valdemorillo:\", avg_price_per_sqm_valdemorillo)\n",
    "print(\"Average price per square meter in Galapagar:\", avg_price_per_sqm_galapagar)\n",
    "\n",
    "if avg_price_per_sqm_valdemorillo > avg_price_per_sqm_galapagar:\n",
    "    print(\"The average price per square meter in Valdemorillo is higher than in Galapagar.\")\n",
    "elif avg_price_per_sqm_valdemorillo < avg_price_per_sqm_galapagar:\n",
    "    print(\"The average price per square meter in Galapagar is higher than in Valdemorillo.\")\n",
    "else:\n",
    "    print(\"The average price per square meter in Valdemorillo and Galapagar are the same.\")\n"
   ]
  },
  {
   "attachments": {},
   "cell_type": "markdown",
   "id": "pleasant-invite",
   "metadata": {},
   "source": [
    "#### Exercise 11. Analyse the relation between the surface and the price of the houses (★★☆)\n",
    "\n",
    "Hint: You can make a `scatter plot` and then write a conclusion about it"
   ]
  },
  {
   "cell_type": "code",
   "execution_count": 75,
   "id": "common-drilling",
   "metadata": {},
   "outputs": [
    {
     "name": "stdout",
     "output_type": "stream",
     "text": [
      "Average price per square meter in Valdemorillo: 1317.9502109024986\n",
      "Average price per square meter in Galapagar: 1606.3240303094024\n",
      "The average price per square meter in Galapagar is higher than in Valdemorillo.\n"
     ]
    }
   ],
   "source": [
    "valdemorillo_properties['price_per_sqm'] = valdemorillo_properties['price'] / valdemorillo_properties['surface'] \n",
    "galapagar_properties['price_per_sqm'] = galapagar_properties['price'] / galapagar_properties['surface']\n",
    "\n",
    "avg_price_per_sqm_valdemorillo = valdemorillo_properties['price_per_sqm'].mean()\n",
    "avg_price_per_sqm_galapagar = galapagar_properties['price_per_sqm'].mean()\n",
    "\n",
    "print(\"Average price per square meter in Valdemorillo:\", avg_price_per_sqm_valdemorillo)\n",
    "print(\"Average price per square meter in Galapagar:\", avg_price_per_sqm_galapagar)\n",
    "\n",
    "if avg_price_per_sqm_valdemorillo > avg_price_per_sqm_galapagar: \n",
    "    print(\"The average price per square meter in Valdemorillo is higher than in Galapagar.\") \n",
    "elif avg_price_per_sqm_valdemorillo < avg_price_per_sqm_galapagar: \n",
    "    print(\"The average price per square meter in Galapagar is higher than in Valdemorillo.\") \n",
    "else: \n",
    "    print(\"The average price per square meter in Valdemorillo and Galapagar are the same.\")"
   ]
  },
  {
   "cell_type": "code",
   "execution_count": 76,
   "id": "c093575c",
   "metadata": {},
   "outputs": [],
   "source": [
    "import matplotlib.pyplot as plt"
   ]
  },
  {
   "cell_type": "code",
   "execution_count": 77,
   "id": "dc2ac96c",
   "metadata": {},
   "outputs": [
    {
     "name": "stdout",
     "output_type": "stream",
     "text": [
      "Requirement already satisfied: pandas>=1.5.3 in /workspace/.pyenv_mirror/user/current/lib/python3.11/site-packages (from -r requirements.txt (line 4)) (2.1.1)\n",
      "Requirement already satisfied: numpy>=1.24.2 in /workspace/.pyenv_mirror/user/current/lib/python3.11/site-packages (from -r requirements.txt (line 5)) (1.26.0)\n",
      "Requirement already satisfied: opencv-python>=4.1.2 in /workspace/.pyenv_mirror/user/current/lib/python3.11/site-packages (from -r requirements.txt (line 6)) (4.8.0.76)\n",
      "Requirement already satisfied: matplotlib>=3.7.0 in /workspace/.pyenv_mirror/user/current/lib/python3.11/site-packages (from -r requirements.txt (line 7)) (3.8.0)\n",
      "Requirement already satisfied: ipyleaflet>=0.14.0 in /workspace/.pyenv_mirror/user/current/lib/python3.11/site-packages (from -r requirements.txt (line 8)) (0.17.4)\n",
      "Requirement already satisfied: jupyter_contrib_nbextensions in /workspace/.pyenv_mirror/user/current/lib/python3.11/site-packages (from -r requirements.txt (line 9)) (0.7.0)\n",
      "Requirement already satisfied: scikit-learn in /workspace/.pyenv_mirror/user/current/lib/python3.11/site-packages (from -r requirements.txt (line 12)) (1.3.1)\n",
      "Requirement already satisfied: python-dateutil>=2.8.2 in /home/gitpod/.pyenv/versions/3.11.5/lib/python3.11/site-packages (from pandas>=1.5.3->-r requirements.txt (line 4)) (2.8.2)\n",
      "Requirement already satisfied: pytz>=2020.1 in /workspace/.pyenv_mirror/user/current/lib/python3.11/site-packages (from pandas>=1.5.3->-r requirements.txt (line 4)) (2023.3.post1)\n",
      "Requirement already satisfied: tzdata>=2022.1 in /workspace/.pyenv_mirror/user/current/lib/python3.11/site-packages (from pandas>=1.5.3->-r requirements.txt (line 4)) (2023.3)\n",
      "Requirement already satisfied: contourpy>=1.0.1 in /workspace/.pyenv_mirror/user/current/lib/python3.11/site-packages (from matplotlib>=3.7.0->-r requirements.txt (line 7)) (1.1.1)\n",
      "Requirement already satisfied: cycler>=0.10 in /workspace/.pyenv_mirror/user/current/lib/python3.11/site-packages (from matplotlib>=3.7.0->-r requirements.txt (line 7)) (0.11.0)\n",
      "Requirement already satisfied: fonttools>=4.22.0 in /workspace/.pyenv_mirror/user/current/lib/python3.11/site-packages (from matplotlib>=3.7.0->-r requirements.txt (line 7)) (4.42.1)\n",
      "Requirement already satisfied: kiwisolver>=1.0.1 in /workspace/.pyenv_mirror/user/current/lib/python3.11/site-packages (from matplotlib>=3.7.0->-r requirements.txt (line 7)) (1.4.5)\n",
      "Requirement already satisfied: packaging>=20.0 in /home/gitpod/.pyenv/versions/3.11.5/lib/python3.11/site-packages (from matplotlib>=3.7.0->-r requirements.txt (line 7)) (23.1)\n",
      "Requirement already satisfied: pillow>=6.2.0 in /workspace/.pyenv_mirror/user/current/lib/python3.11/site-packages (from matplotlib>=3.7.0->-r requirements.txt (line 7)) (10.0.1)\n",
      "Requirement already satisfied: pyparsing>=2.3.1 in /workspace/.pyenv_mirror/user/current/lib/python3.11/site-packages (from matplotlib>=3.7.0->-r requirements.txt (line 7)) (3.1.1)\n",
      "Requirement already satisfied: ipywidgets<9,>=7.6.0 in /workspace/.pyenv_mirror/user/current/lib/python3.11/site-packages (from ipyleaflet>=0.14.0->-r requirements.txt (line 8)) (8.1.1)\n",
      "Requirement already satisfied: traittypes<3,>=0.2.1 in /workspace/.pyenv_mirror/user/current/lib/python3.11/site-packages (from ipyleaflet>=0.14.0->-r requirements.txt (line 8)) (0.2.1)\n",
      "Requirement already satisfied: xyzservices>=2021.8.1 in /workspace/.pyenv_mirror/user/current/lib/python3.11/site-packages (from ipyleaflet>=0.14.0->-r requirements.txt (line 8)) (2023.7.0)\n",
      "Requirement already satisfied: branca>=0.5.0 in /workspace/.pyenv_mirror/user/current/lib/python3.11/site-packages (from ipyleaflet>=0.14.0->-r requirements.txt (line 8)) (0.6.0)\n",
      "Requirement already satisfied: ipython-genutils in /workspace/.pyenv_mirror/user/current/lib/python3.11/site-packages (from jupyter_contrib_nbextensions->-r requirements.txt (line 9)) (0.2.0)\n",
      "Requirement already satisfied: jupyter-contrib-core>=0.3.3 in /workspace/.pyenv_mirror/user/current/lib/python3.11/site-packages (from jupyter_contrib_nbextensions->-r requirements.txt (line 9)) (0.4.2)\n",
      "Requirement already satisfied: jupyter-core in /home/gitpod/.pyenv/versions/3.11.5/lib/python3.11/site-packages (from jupyter_contrib_nbextensions->-r requirements.txt (line 9)) (5.3.1)\n",
      "Requirement already satisfied: jupyter-highlight-selected-word>=0.1.1 in /workspace/.pyenv_mirror/user/current/lib/python3.11/site-packages (from jupyter_contrib_nbextensions->-r requirements.txt (line 9)) (0.2.0)\n",
      "Requirement already satisfied: jupyter-nbextensions-configurator>=0.4.0 in /workspace/.pyenv_mirror/user/current/lib/python3.11/site-packages (from jupyter_contrib_nbextensions->-r requirements.txt (line 9)) (0.6.3)\n",
      "Requirement already satisfied: nbconvert>=6.0 in /home/gitpod/.pyenv/versions/3.11.5/lib/python3.11/site-packages (from jupyter_contrib_nbextensions->-r requirements.txt (line 9)) (7.8.0)\n",
      "Requirement already satisfied: notebook>=6.0 in /home/gitpod/.pyenv/versions/3.11.5/lib/python3.11/site-packages (from jupyter_contrib_nbextensions->-r requirements.txt (line 9)) (7.0.3)\n",
      "Requirement already satisfied: tornado in /home/gitpod/.pyenv/versions/3.11.5/lib/python3.11/site-packages (from jupyter_contrib_nbextensions->-r requirements.txt (line 9)) (6.3.3)\n",
      "Requirement already satisfied: traitlets>=4.1 in /home/gitpod/.pyenv/versions/3.11.5/lib/python3.11/site-packages (from jupyter_contrib_nbextensions->-r requirements.txt (line 9)) (5.10.0)\n",
      "Requirement already satisfied: lxml in /workspace/.pyenv_mirror/user/current/lib/python3.11/site-packages (from jupyter_contrib_nbextensions->-r requirements.txt (line 9)) (4.9.3)\n",
      "Requirement already satisfied: scipy>=1.5.0 in /workspace/.pyenv_mirror/user/current/lib/python3.11/site-packages (from scikit-learn->-r requirements.txt (line 12)) (1.11.2)\n",
      "Requirement already satisfied: joblib>=1.1.1 in /workspace/.pyenv_mirror/user/current/lib/python3.11/site-packages (from scikit-learn->-r requirements.txt (line 12)) (1.3.2)\n",
      "Requirement already satisfied: threadpoolctl>=2.0.0 in /workspace/.pyenv_mirror/user/current/lib/python3.11/site-packages (from scikit-learn->-r requirements.txt (line 12)) (3.2.0)\n",
      "Requirement already satisfied: jinja2 in /home/gitpod/.pyenv/versions/3.11.5/lib/python3.11/site-packages (from branca>=0.5.0->ipyleaflet>=0.14.0->-r requirements.txt (line 8)) (3.1.2)\n",
      "Requirement already satisfied: comm>=0.1.3 in /home/gitpod/.pyenv/versions/3.11.5/lib/python3.11/site-packages (from ipywidgets<9,>=7.6.0->ipyleaflet>=0.14.0->-r requirements.txt (line 8)) (0.1.4)\n",
      "Requirement already satisfied: ipython>=6.1.0 in /home/gitpod/.pyenv/versions/3.11.5/lib/python3.11/site-packages (from ipywidgets<9,>=7.6.0->ipyleaflet>=0.14.0->-r requirements.txt (line 8)) (8.15.0)\n",
      "Requirement already satisfied: widgetsnbextension~=4.0.9 in /workspace/.pyenv_mirror/user/current/lib/python3.11/site-packages (from ipywidgets<9,>=7.6.0->ipyleaflet>=0.14.0->-r requirements.txt (line 8)) (4.0.9)\n",
      "Requirement already satisfied: jupyterlab-widgets~=3.0.9 in /workspace/.pyenv_mirror/user/current/lib/python3.11/site-packages (from ipywidgets<9,>=7.6.0->ipyleaflet>=0.14.0->-r requirements.txt (line 8)) (3.0.9)\n",
      "Requirement already satisfied: setuptools in /home/gitpod/.pyenv/versions/3.11.5/lib/python3.11/site-packages (from jupyter-contrib-core>=0.3.3->jupyter_contrib_nbextensions->-r requirements.txt (line 9)) (68.2.2)\n",
      "Requirement already satisfied: pyyaml in /home/gitpod/.pyenv/versions/3.11.5/lib/python3.11/site-packages (from jupyter-nbextensions-configurator>=0.4.0->jupyter_contrib_nbextensions->-r requirements.txt (line 9)) (6.0.1)\n",
      "Requirement already satisfied: beautifulsoup4 in /home/gitpod/.pyenv/versions/3.11.5/lib/python3.11/site-packages (from nbconvert>=6.0->jupyter_contrib_nbextensions->-r requirements.txt (line 9)) (4.12.2)\n",
      "Requirement already satisfied: bleach!=5.0.0 in /home/gitpod/.pyenv/versions/3.11.5/lib/python3.11/site-packages (from nbconvert>=6.0->jupyter_contrib_nbextensions->-r requirements.txt (line 9)) (6.0.0)\n",
      "Requirement already satisfied: defusedxml in /home/gitpod/.pyenv/versions/3.11.5/lib/python3.11/site-packages (from nbconvert>=6.0->jupyter_contrib_nbextensions->-r requirements.txt (line 9)) (0.7.1)\n",
      "Requirement already satisfied: jupyterlab-pygments in /home/gitpod/.pyenv/versions/3.11.5/lib/python3.11/site-packages (from nbconvert>=6.0->jupyter_contrib_nbextensions->-r requirements.txt (line 9)) (0.2.2)\n",
      "Requirement already satisfied: markupsafe>=2.0 in /home/gitpod/.pyenv/versions/3.11.5/lib/python3.11/site-packages (from nbconvert>=6.0->jupyter_contrib_nbextensions->-r requirements.txt (line 9)) (2.1.3)\n",
      "Requirement already satisfied: mistune<4,>=2.0.3 in /home/gitpod/.pyenv/versions/3.11.5/lib/python3.11/site-packages (from nbconvert>=6.0->jupyter_contrib_nbextensions->-r requirements.txt (line 9)) (3.0.1)\n",
      "Requirement already satisfied: nbclient>=0.5.0 in /home/gitpod/.pyenv/versions/3.11.5/lib/python3.11/site-packages (from nbconvert>=6.0->jupyter_contrib_nbextensions->-r requirements.txt (line 9)) (0.8.0)\n",
      "Requirement already satisfied: nbformat>=5.7 in /home/gitpod/.pyenv/versions/3.11.5/lib/python3.11/site-packages (from nbconvert>=6.0->jupyter_contrib_nbextensions->-r requirements.txt (line 9)) (5.9.2)\n",
      "Requirement already satisfied: pandocfilters>=1.4.1 in /home/gitpod/.pyenv/versions/3.11.5/lib/python3.11/site-packages (from nbconvert>=6.0->jupyter_contrib_nbextensions->-r requirements.txt (line 9)) (1.5.0)\n",
      "Requirement already satisfied: pygments>=2.4.1 in /home/gitpod/.pyenv/versions/3.11.5/lib/python3.11/site-packages (from nbconvert>=6.0->jupyter_contrib_nbextensions->-r requirements.txt (line 9)) (2.16.1)\n",
      "Requirement already satisfied: tinycss2 in /home/gitpod/.pyenv/versions/3.11.5/lib/python3.11/site-packages (from nbconvert>=6.0->jupyter_contrib_nbextensions->-r requirements.txt (line 9)) (1.2.1)\n",
      "Requirement already satisfied: platformdirs>=2.5 in /home/gitpod/.pyenv/versions/3.11.5/lib/python3.11/site-packages (from jupyter-core->jupyter_contrib_nbextensions->-r requirements.txt (line 9)) (3.10.0)\n",
      "Requirement already satisfied: jupyter-server<3,>=2.4.0 in /home/gitpod/.pyenv/versions/3.11.5/lib/python3.11/site-packages (from notebook>=6.0->jupyter_contrib_nbextensions->-r requirements.txt (line 9)) (2.7.3)\n",
      "Requirement already satisfied: jupyterlab-server<3,>=2.22.1 in /home/gitpod/.pyenv/versions/3.11.5/lib/python3.11/site-packages (from notebook>=6.0->jupyter_contrib_nbextensions->-r requirements.txt (line 9)) (2.25.0)\n",
      "Requirement already satisfied: jupyterlab<5,>=4.0.2 in /home/gitpod/.pyenv/versions/3.11.5/lib/python3.11/site-packages (from notebook>=6.0->jupyter_contrib_nbextensions->-r requirements.txt (line 9)) (4.0.6)\n",
      "Requirement already satisfied: notebook-shim<0.3,>=0.2 in /home/gitpod/.pyenv/versions/3.11.5/lib/python3.11/site-packages (from notebook>=6.0->jupyter_contrib_nbextensions->-r requirements.txt (line 9)) (0.2.3)\n",
      "Requirement already satisfied: six>=1.5 in /home/gitpod/.pyenv/versions/3.11.5/lib/python3.11/site-packages (from python-dateutil>=2.8.2->pandas>=1.5.3->-r requirements.txt (line 4)) (1.16.0)\n",
      "Requirement already satisfied: webencodings in /home/gitpod/.pyenv/versions/3.11.5/lib/python3.11/site-packages (from bleach!=5.0.0->nbconvert>=6.0->jupyter_contrib_nbextensions->-r requirements.txt (line 9)) (0.5.1)\n",
      "Requirement already satisfied: backcall in /home/gitpod/.pyenv/versions/3.11.5/lib/python3.11/site-packages (from ipython>=6.1.0->ipywidgets<9,>=7.6.0->ipyleaflet>=0.14.0->-r requirements.txt (line 8)) (0.2.0)\n",
      "Requirement already satisfied: decorator in /home/gitpod/.pyenv/versions/3.11.5/lib/python3.11/site-packages (from ipython>=6.1.0->ipywidgets<9,>=7.6.0->ipyleaflet>=0.14.0->-r requirements.txt (line 8)) (5.1.1)\n",
      "Requirement already satisfied: jedi>=0.16 in /home/gitpod/.pyenv/versions/3.11.5/lib/python3.11/site-packages (from ipython>=6.1.0->ipywidgets<9,>=7.6.0->ipyleaflet>=0.14.0->-r requirements.txt (line 8)) (0.19.0)\n",
      "Requirement already satisfied: matplotlib-inline in /home/gitpod/.pyenv/versions/3.11.5/lib/python3.11/site-packages (from ipython>=6.1.0->ipywidgets<9,>=7.6.0->ipyleaflet>=0.14.0->-r requirements.txt (line 8)) (0.1.6)\n",
      "Requirement already satisfied: pickleshare in /home/gitpod/.pyenv/versions/3.11.5/lib/python3.11/site-packages (from ipython>=6.1.0->ipywidgets<9,>=7.6.0->ipyleaflet>=0.14.0->-r requirements.txt (line 8)) (0.7.5)\n",
      "Requirement already satisfied: prompt-toolkit!=3.0.37,<3.1.0,>=3.0.30 in /home/gitpod/.pyenv/versions/3.11.5/lib/python3.11/site-packages (from ipython>=6.1.0->ipywidgets<9,>=7.6.0->ipyleaflet>=0.14.0->-r requirements.txt (line 8)) (3.0.39)\n",
      "Requirement already satisfied: stack-data in /home/gitpod/.pyenv/versions/3.11.5/lib/python3.11/site-packages (from ipython>=6.1.0->ipywidgets<9,>=7.6.0->ipyleaflet>=0.14.0->-r requirements.txt (line 8)) (0.6.2)\n",
      "Requirement already satisfied: pexpect>4.3 in /home/gitpod/.pyenv/versions/3.11.5/lib/python3.11/site-packages (from ipython>=6.1.0->ipywidgets<9,>=7.6.0->ipyleaflet>=0.14.0->-r requirements.txt (line 8)) (4.8.0)\n",
      "Requirement already satisfied: anyio>=3.1.0 in /home/gitpod/.pyenv/versions/3.11.5/lib/python3.11/site-packages (from jupyter-server<3,>=2.4.0->notebook>=6.0->jupyter_contrib_nbextensions->-r requirements.txt (line 9)) (4.0.0)\n",
      "Requirement already satisfied: argon2-cffi in /home/gitpod/.pyenv/versions/3.11.5/lib/python3.11/site-packages (from jupyter-server<3,>=2.4.0->notebook>=6.0->jupyter_contrib_nbextensions->-r requirements.txt (line 9)) (23.1.0)\n",
      "Requirement already satisfied: jupyter-client>=7.4.4 in /home/gitpod/.pyenv/versions/3.11.5/lib/python3.11/site-packages (from jupyter-server<3,>=2.4.0->notebook>=6.0->jupyter_contrib_nbextensions->-r requirements.txt (line 9)) (8.3.1)\n",
      "Requirement already satisfied: jupyter-events>=0.6.0 in /home/gitpod/.pyenv/versions/3.11.5/lib/python3.11/site-packages (from jupyter-server<3,>=2.4.0->notebook>=6.0->jupyter_contrib_nbextensions->-r requirements.txt (line 9)) (0.7.0)\n",
      "Requirement already satisfied: jupyter-server-terminals in /home/gitpod/.pyenv/versions/3.11.5/lib/python3.11/site-packages (from jupyter-server<3,>=2.4.0->notebook>=6.0->jupyter_contrib_nbextensions->-r requirements.txt (line 9)) (0.4.4)\n",
      "Requirement already satisfied: overrides in /home/gitpod/.pyenv/versions/3.11.5/lib/python3.11/site-packages (from jupyter-server<3,>=2.4.0->notebook>=6.0->jupyter_contrib_nbextensions->-r requirements.txt (line 9)) (7.4.0)\n",
      "Requirement already satisfied: prometheus-client in /home/gitpod/.pyenv/versions/3.11.5/lib/python3.11/site-packages (from jupyter-server<3,>=2.4.0->notebook>=6.0->jupyter_contrib_nbextensions->-r requirements.txt (line 9)) (0.17.1)\n",
      "Requirement already satisfied: pyzmq>=24 in /home/gitpod/.pyenv/versions/3.11.5/lib/python3.11/site-packages (from jupyter-server<3,>=2.4.0->notebook>=6.0->jupyter_contrib_nbextensions->-r requirements.txt (line 9)) (25.1.1)\n",
      "Requirement already satisfied: send2trash>=1.8.2 in /home/gitpod/.pyenv/versions/3.11.5/lib/python3.11/site-packages (from jupyter-server<3,>=2.4.0->notebook>=6.0->jupyter_contrib_nbextensions->-r requirements.txt (line 9)) (1.8.2)\n",
      "Requirement already satisfied: terminado>=0.8.3 in /home/gitpod/.pyenv/versions/3.11.5/lib/python3.11/site-packages (from jupyter-server<3,>=2.4.0->notebook>=6.0->jupyter_contrib_nbextensions->-r requirements.txt (line 9)) (0.17.1)\n",
      "Requirement already satisfied: websocket-client in /home/gitpod/.pyenv/versions/3.11.5/lib/python3.11/site-packages (from jupyter-server<3,>=2.4.0->notebook>=6.0->jupyter_contrib_nbextensions->-r requirements.txt (line 9)) (1.6.3)\n",
      "Requirement already satisfied: async-lru>=1.0.0 in /home/gitpod/.pyenv/versions/3.11.5/lib/python3.11/site-packages (from jupyterlab<5,>=4.0.2->notebook>=6.0->jupyter_contrib_nbextensions->-r requirements.txt (line 9)) (2.0.4)\n",
      "Requirement already satisfied: ipykernel in /home/gitpod/.pyenv/versions/3.11.5/lib/python3.11/site-packages (from jupyterlab<5,>=4.0.2->notebook>=6.0->jupyter_contrib_nbextensions->-r requirements.txt (line 9)) (6.25.2)\n",
      "Requirement already satisfied: jupyter-lsp>=2.0.0 in /home/gitpod/.pyenv/versions/3.11.5/lib/python3.11/site-packages (from jupyterlab<5,>=4.0.2->notebook>=6.0->jupyter_contrib_nbextensions->-r requirements.txt (line 9)) (2.2.0)\n",
      "Requirement already satisfied: babel>=2.10 in /home/gitpod/.pyenv/versions/3.11.5/lib/python3.11/site-packages (from jupyterlab-server<3,>=2.22.1->notebook>=6.0->jupyter_contrib_nbextensions->-r requirements.txt (line 9)) (2.12.1)\n",
      "Requirement already satisfied: json5>=0.9.0 in /home/gitpod/.pyenv/versions/3.11.5/lib/python3.11/site-packages (from jupyterlab-server<3,>=2.22.1->notebook>=6.0->jupyter_contrib_nbextensions->-r requirements.txt (line 9)) (0.9.14)\n",
      "Requirement already satisfied: jsonschema>=4.18.0 in /home/gitpod/.pyenv/versions/3.11.5/lib/python3.11/site-packages (from jupyterlab-server<3,>=2.22.1->notebook>=6.0->jupyter_contrib_nbextensions->-r requirements.txt (line 9)) (4.19.0)\n",
      "Requirement already satisfied: requests>=2.31 in /home/gitpod/.pyenv/versions/3.11.5/lib/python3.11/site-packages (from jupyterlab-server<3,>=2.22.1->notebook>=6.0->jupyter_contrib_nbextensions->-r requirements.txt (line 9)) (2.31.0)\n",
      "Requirement already satisfied: fastjsonschema in /home/gitpod/.pyenv/versions/3.11.5/lib/python3.11/site-packages (from nbformat>=5.7->nbconvert>=6.0->jupyter_contrib_nbextensions->-r requirements.txt (line 9)) (2.18.0)\n",
      "Requirement already satisfied: soupsieve>1.2 in /home/gitpod/.pyenv/versions/3.11.5/lib/python3.11/site-packages (from beautifulsoup4->nbconvert>=6.0->jupyter_contrib_nbextensions->-r requirements.txt (line 9)) (2.5)\n",
      "Requirement already satisfied: idna>=2.8 in /home/gitpod/.pyenv/versions/3.11.5/lib/python3.11/site-packages (from anyio>=3.1.0->jupyter-server<3,>=2.4.0->notebook>=6.0->jupyter_contrib_nbextensions->-r requirements.txt (line 9)) (3.4)\n",
      "Requirement already satisfied: sniffio>=1.1 in /home/gitpod/.pyenv/versions/3.11.5/lib/python3.11/site-packages (from anyio>=3.1.0->jupyter-server<3,>=2.4.0->notebook>=6.0->jupyter_contrib_nbextensions->-r requirements.txt (line 9)) (1.3.0)\n",
      "Requirement already satisfied: parso<0.9.0,>=0.8.3 in /home/gitpod/.pyenv/versions/3.11.5/lib/python3.11/site-packages (from jedi>=0.16->ipython>=6.1.0->ipywidgets<9,>=7.6.0->ipyleaflet>=0.14.0->-r requirements.txt (line 8)) (0.8.3)\n",
      "Requirement already satisfied: attrs>=22.2.0 in /home/gitpod/.pyenv/versions/3.11.5/lib/python3.11/site-packages (from jsonschema>=4.18.0->jupyterlab-server<3,>=2.22.1->notebook>=6.0->jupyter_contrib_nbextensions->-r requirements.txt (line 9)) (23.1.0)\n",
      "Requirement already satisfied: jsonschema-specifications>=2023.03.6 in /home/gitpod/.pyenv/versions/3.11.5/lib/python3.11/site-packages (from jsonschema>=4.18.0->jupyterlab-server<3,>=2.22.1->notebook>=6.0->jupyter_contrib_nbextensions->-r requirements.txt (line 9)) (2023.7.1)\n",
      "Requirement already satisfied: referencing>=0.28.4 in /home/gitpod/.pyenv/versions/3.11.5/lib/python3.11/site-packages (from jsonschema>=4.18.0->jupyterlab-server<3,>=2.22.1->notebook>=6.0->jupyter_contrib_nbextensions->-r requirements.txt (line 9)) (0.30.2)\n",
      "Requirement already satisfied: rpds-py>=0.7.1 in /home/gitpod/.pyenv/versions/3.11.5/lib/python3.11/site-packages (from jsonschema>=4.18.0->jupyterlab-server<3,>=2.22.1->notebook>=6.0->jupyter_contrib_nbextensions->-r requirements.txt (line 9)) (0.10.3)\n",
      "Requirement already satisfied: python-json-logger>=2.0.4 in /home/gitpod/.pyenv/versions/3.11.5/lib/python3.11/site-packages (from jupyter-events>=0.6.0->jupyter-server<3,>=2.4.0->notebook>=6.0->jupyter_contrib_nbextensions->-r requirements.txt (line 9)) (2.0.7)\n",
      "Requirement already satisfied: rfc3339-validator in /home/gitpod/.pyenv/versions/3.11.5/lib/python3.11/site-packages (from jupyter-events>=0.6.0->jupyter-server<3,>=2.4.0->notebook>=6.0->jupyter_contrib_nbextensions->-r requirements.txt (line 9)) (0.1.4)\n",
      "Requirement already satisfied: rfc3986-validator>=0.1.1 in /home/gitpod/.pyenv/versions/3.11.5/lib/python3.11/site-packages (from jupyter-events>=0.6.0->jupyter-server<3,>=2.4.0->notebook>=6.0->jupyter_contrib_nbextensions->-r requirements.txt (line 9)) (0.1.1)\n",
      "Requirement already satisfied: ptyprocess>=0.5 in /home/gitpod/.pyenv/versions/3.11.5/lib/python3.11/site-packages (from pexpect>4.3->ipython>=6.1.0->ipywidgets<9,>=7.6.0->ipyleaflet>=0.14.0->-r requirements.txt (line 8)) (0.7.0)\n",
      "Requirement already satisfied: wcwidth in /home/gitpod/.pyenv/versions/3.11.5/lib/python3.11/site-packages (from prompt-toolkit!=3.0.37,<3.1.0,>=3.0.30->ipython>=6.1.0->ipywidgets<9,>=7.6.0->ipyleaflet>=0.14.0->-r requirements.txt (line 8)) (0.2.6)\n",
      "Requirement already satisfied: charset-normalizer<4,>=2 in /home/gitpod/.pyenv/versions/3.11.5/lib/python3.11/site-packages (from requests>=2.31->jupyterlab-server<3,>=2.22.1->notebook>=6.0->jupyter_contrib_nbextensions->-r requirements.txt (line 9)) (3.2.0)\n",
      "Requirement already satisfied: urllib3<3,>=1.21.1 in /home/gitpod/.pyenv/versions/3.11.5/lib/python3.11/site-packages (from requests>=2.31->jupyterlab-server<3,>=2.22.1->notebook>=6.0->jupyter_contrib_nbextensions->-r requirements.txt (line 9)) (2.0.4)\n",
      "Requirement already satisfied: certifi>=2017.4.17 in /home/gitpod/.pyenv/versions/3.11.5/lib/python3.11/site-packages (from requests>=2.31->jupyterlab-server<3,>=2.22.1->notebook>=6.0->jupyter_contrib_nbextensions->-r requirements.txt (line 9)) (2023.7.22)\n",
      "Requirement already satisfied: argon2-cffi-bindings in /home/gitpod/.pyenv/versions/3.11.5/lib/python3.11/site-packages (from argon2-cffi->jupyter-server<3,>=2.4.0->notebook>=6.0->jupyter_contrib_nbextensions->-r requirements.txt (line 9)) (21.2.0)\n",
      "Requirement already satisfied: debugpy>=1.6.5 in /home/gitpod/.pyenv/versions/3.11.5/lib/python3.11/site-packages (from ipykernel->jupyterlab<5,>=4.0.2->notebook>=6.0->jupyter_contrib_nbextensions->-r requirements.txt (line 9)) (1.8.0)\n",
      "Requirement already satisfied: nest-asyncio in /home/gitpod/.pyenv/versions/3.11.5/lib/python3.11/site-packages (from ipykernel->jupyterlab<5,>=4.0.2->notebook>=6.0->jupyter_contrib_nbextensions->-r requirements.txt (line 9)) (1.5.7)\n",
      "Requirement already satisfied: psutil in /home/gitpod/.pyenv/versions/3.11.5/lib/python3.11/site-packages (from ipykernel->jupyterlab<5,>=4.0.2->notebook>=6.0->jupyter_contrib_nbextensions->-r requirements.txt (line 9)) (5.9.5)\n",
      "Requirement already satisfied: executing>=1.2.0 in /home/gitpod/.pyenv/versions/3.11.5/lib/python3.11/site-packages (from stack-data->ipython>=6.1.0->ipywidgets<9,>=7.6.0->ipyleaflet>=0.14.0->-r requirements.txt (line 8)) (1.2.0)\n",
      "Requirement already satisfied: asttokens>=2.1.0 in /home/gitpod/.pyenv/versions/3.11.5/lib/python3.11/site-packages (from stack-data->ipython>=6.1.0->ipywidgets<9,>=7.6.0->ipyleaflet>=0.14.0->-r requirements.txt (line 8)) (2.4.0)\n",
      "Requirement already satisfied: pure-eval in /home/gitpod/.pyenv/versions/3.11.5/lib/python3.11/site-packages (from stack-data->ipython>=6.1.0->ipywidgets<9,>=7.6.0->ipyleaflet>=0.14.0->-r requirements.txt (line 8)) (0.2.2)\n",
      "Requirement already satisfied: fqdn in /home/gitpod/.pyenv/versions/3.11.5/lib/python3.11/site-packages (from jsonschema>=4.18.0->jupyterlab-server<3,>=2.22.1->notebook>=6.0->jupyter_contrib_nbextensions->-r requirements.txt (line 9)) (1.5.1)\n",
      "Requirement already satisfied: isoduration in /home/gitpod/.pyenv/versions/3.11.5/lib/python3.11/site-packages (from jsonschema>=4.18.0->jupyterlab-server<3,>=2.22.1->notebook>=6.0->jupyter_contrib_nbextensions->-r requirements.txt (line 9)) (20.11.0)\n",
      "Requirement already satisfied: jsonpointer>1.13 in /home/gitpod/.pyenv/versions/3.11.5/lib/python3.11/site-packages (from jsonschema>=4.18.0->jupyterlab-server<3,>=2.22.1->notebook>=6.0->jupyter_contrib_nbextensions->-r requirements.txt (line 9)) (2.4)\n",
      "Requirement already satisfied: uri-template in /home/gitpod/.pyenv/versions/3.11.5/lib/python3.11/site-packages (from jsonschema>=4.18.0->jupyterlab-server<3,>=2.22.1->notebook>=6.0->jupyter_contrib_nbextensions->-r requirements.txt (line 9)) (1.3.0)\n",
      "Requirement already satisfied: webcolors>=1.11 in /home/gitpod/.pyenv/versions/3.11.5/lib/python3.11/site-packages (from jsonschema>=4.18.0->jupyterlab-server<3,>=2.22.1->notebook>=6.0->jupyter_contrib_nbextensions->-r requirements.txt (line 9)) (1.13)\n",
      "Requirement already satisfied: cffi>=1.0.1 in /home/gitpod/.pyenv/versions/3.11.5/lib/python3.11/site-packages (from argon2-cffi-bindings->argon2-cffi->jupyter-server<3,>=2.4.0->notebook>=6.0->jupyter_contrib_nbextensions->-r requirements.txt (line 9)) (1.15.1)\n",
      "Requirement already satisfied: pycparser in /home/gitpod/.pyenv/versions/3.11.5/lib/python3.11/site-packages (from cffi>=1.0.1->argon2-cffi-bindings->argon2-cffi->jupyter-server<3,>=2.4.0->notebook>=6.0->jupyter_contrib_nbextensions->-r requirements.txt (line 9)) (2.21)\n",
      "Requirement already satisfied: arrow>=0.15.0 in /home/gitpod/.pyenv/versions/3.11.5/lib/python3.11/site-packages (from isoduration->jsonschema>=4.18.0->jupyterlab-server<3,>=2.22.1->notebook>=6.0->jupyter_contrib_nbextensions->-r requirements.txt (line 9)) (1.2.3)\n"
     ]
    }
   ],
   "source": [
    "!pip install -r requirements.txt"
   ]
  },
  {
   "cell_type": "code",
   "execution_count": 78,
   "id": "b9c8c32e",
   "metadata": {},
   "outputs": [
    {
     "name": "stdout",
     "output_type": "stream",
     "text": [
      "Requirement already satisfied: matplotlib in /workspace/.pyenv_mirror/user/current/lib/python3.11/site-packages (3.8.0)\n",
      "Requirement already satisfied: contourpy>=1.0.1 in /workspace/.pyenv_mirror/user/current/lib/python3.11/site-packages (from matplotlib) (1.1.1)\n",
      "Requirement already satisfied: cycler>=0.10 in /workspace/.pyenv_mirror/user/current/lib/python3.11/site-packages (from matplotlib) (0.11.0)\n",
      "Requirement already satisfied: fonttools>=4.22.0 in /workspace/.pyenv_mirror/user/current/lib/python3.11/site-packages (from matplotlib) (4.42.1)\n",
      "Requirement already satisfied: kiwisolver>=1.0.1 in /workspace/.pyenv_mirror/user/current/lib/python3.11/site-packages (from matplotlib) (1.4.5)\n",
      "Requirement already satisfied: numpy<2,>=1.21 in /workspace/.pyenv_mirror/user/current/lib/python3.11/site-packages (from matplotlib) (1.26.0)\n",
      "Requirement already satisfied: packaging>=20.0 in /home/gitpod/.pyenv/versions/3.11.5/lib/python3.11/site-packages (from matplotlib) (23.1)\n",
      "Requirement already satisfied: pillow>=6.2.0 in /workspace/.pyenv_mirror/user/current/lib/python3.11/site-packages (from matplotlib) (10.0.1)\n",
      "Requirement already satisfied: pyparsing>=2.3.1 in /workspace/.pyenv_mirror/user/current/lib/python3.11/site-packages (from matplotlib) (3.1.1)\n",
      "Requirement already satisfied: python-dateutil>=2.7 in /home/gitpod/.pyenv/versions/3.11.5/lib/python3.11/site-packages (from matplotlib) (2.8.2)\n",
      "Requirement already satisfied: six>=1.5 in /home/gitpod/.pyenv/versions/3.11.5/lib/python3.11/site-packages (from python-dateutil>=2.7->matplotlib) (1.16.0)\n"
     ]
    }
   ],
   "source": [
    "!pip install matplotlib\n"
   ]
  },
  {
   "cell_type": "code",
   "execution_count": 79,
   "id": "4d3115a2",
   "metadata": {},
   "outputs": [
    {
     "data": {
      "image/png": "[encoded data removed]",
      "text/plain": [
       "<Figure size 1000x600 with 1 Axes>"
      ]
     },
     "metadata": {},
     "output_type": "display_data"
    }
   ],
   "source": [
    "filtered_data = ds.dropna(subset=['surface', 'price'])\n",
    "plt.figure(figsize=(10,6))\n",
    "plt.scatter(filtered_data[\"surface\"],filtered_data[\"price\"], alpha=0.5)\n",
    "plt.title('Scatter Plot of Surface vs. Price') \n",
    "plt.xlabel('Surface Area') \n",
    "plt.ylabel('Price') \n",
    "plt.grid(True) \n",
    "plt.show()"
   ]
  },
  {
   "attachments": {},
   "cell_type": "markdown",
   "id": "ahead-liquid",
   "metadata": {},
   "source": [
    "**TODO: Markdown**. To write here, double click to this cell and just remove this content and place the text you want to write. Then, execute the cell."
   ]
  },
  {
   "cell_type": "markdown",
   "id": "a10d7b33",
   "metadata": {},
   "source": [
    "The average price is frequency on 0 surface area. "
   ]
  },
  {
   "attachments": {},
   "cell_type": "markdown",
   "id": "coordinate-sunrise",
   "metadata": {},
   "source": [
    "#### Exercise 12. How many real estate agencies the dataset contains? (★★☆)\n",
    "\n",
    "Print the obtained value"
   ]
  },
  {
   "cell_type": "code",
   "execution_count": 80,
   "id": "valid-honolulu",
   "metadata": {},
   "outputs": [
    {
     "name": "stdout",
     "output_type": "stream",
     "text": [
      "1822\n"
     ]
    }
   ],
   "source": [
    "agencies=ds['realEstate_name'].unique()\n",
    "number_agencies=len(agencies)\n",
    "print(number_agencies)"
   ]
  },
  {
   "cell_type": "code",
   "execution_count": 81,
   "id": "7c287f60",
   "metadata": {},
   "outputs": [
    {
     "name": "stdout",
     "output_type": "stream",
     "text": [
      "14217\n"
     ]
    }
   ],
   "source": [
    "grouped_filtered = ds.groupby(['id_realEstates'])\n",
    "grouped_filtered = grouped_filtered['id_realEstates']\n",
    "print(len(grouped_filtered.size()))"
   ]
  },
  {
   "attachments": {},
   "cell_type": "markdown",
   "id": "binding-ebony",
   "metadata": {},
   "source": [
    "#### Exercise 13. Which is the population (level5 column) that contains the most houses? (★★☆)\n",
    "\n",
    "Print both the population and the number of houses"
   ]
  },
  {
   "cell_type": "code",
   "execution_count": 82,
   "id": "6b874463",
   "metadata": {},
   "outputs": [
    {
     "name": "stdout",
     "output_type": "stream",
     "text": [
      "level5\n",
      " Madrid Capital         6643\n",
      "Alcalá de Henares        525\n",
      "Las Rozas de Madrid      383\n",
      "Móstoles                 325\n",
      "Getafe                   290\n",
      "                        ... \n",
      "Brea de Tajo               1\n",
      "El Atazar                  1\n",
      "Piñuécar-gandullas         1\n",
      "Braojos                    1\n",
      "Montejo de la Sierra       1\n",
      "Name: count, Length: 168, dtype: int64\n"
     ]
    }
   ],
   "source": [
    "population_counts = ds['level5'].value_counts()\n",
    "print(population_counts)"
   ]
  },
  {
   "cell_type": "code",
   "execution_count": 83,
   "id": "45f09317",
   "metadata": {},
   "outputs": [
    {
     "name": "stdout",
     "output_type": "stream",
     "text": [
      "Population (level 5) with the most houses:  Madrid Capital\n"
     ]
    }
   ],
   "source": [
    "most_common_population = population_counts.idxmax()\n",
    "print(\"Population (level 5) with the most houses:\", most_common_population)"
   ]
  },
  {
   "attachments": {},
   "cell_type": "markdown",
   "id": "entire-classification",
   "metadata": {},
   "source": [
    "#### Exercise 14. Now let's work with the \"south belt\" of madrid. Make a subset of the original DataFrame that contains the following populations (level5 column): \"Fuenlabrada\",\"Leganés\",\"Getafe\",\"Alcorcón\" (★★☆)\n",
    "\n",
    "Hint: Filter the original DataFrame using the column `level5` and the function `isin`"
   ]
  },
  {
   "cell_type": "code",
   "execution_count": 84,
   "id": "binary-input",
   "metadata": {},
   "outputs": [],
   "source": [
    "populations_to_subset = [\"Fuenlabrada\", \"Leganés\", \"Getafe\", \"Alcorcón\"]\n"
   ]
  },
  {
   "cell_type": "code",
   "execution_count": 85,
   "id": "26497337",
   "metadata": {},
   "outputs": [],
   "source": [
    "south_belt_subset = ds[ds['level5'].isin(populations_to_subset)]\n"
   ]
  },
  {
   "cell_type": "code",
   "execution_count": 86,
   "id": "39a6cc57",
   "metadata": {},
   "outputs": [
    {
     "data": {
      "text/html": [
       "<div>\n",
       "<style scoped>\n",
       "    .dataframe tbody tr th:only-of-type {\n",
       "        vertical-align: middle;\n",
       "    }\n",
       "\n",
       "    .dataframe tbody tr th {\n",
       "        vertical-align: top;\n",
       "    }\n",
       "\n",
       "    .dataframe thead th {\n",
       "        text-align: right;\n",
       "    }\n",
       "</style>\n",
       "<table border=\"1\" class=\"dataframe\">\n",
       "  <thead>\n",
       "    <tr style=\"text-align: right;\">\n",
       "      <th></th>\n",
       "      <th>Unnamed: 0</th>\n",
       "      <th>id_realEstates</th>\n",
       "      <th>isNew</th>\n",
       "      <th>realEstate_name</th>\n",
       "      <th>phone_realEstate</th>\n",
       "      <th>url_inmueble</th>\n",
       "      <th>rooms</th>\n",
       "      <th>bathrooms</th>\n",
       "      <th>surface</th>\n",
       "      <th>price</th>\n",
       "      <th>...</th>\n",
       "      <th>level4Id</th>\n",
       "      <th>level5Id</th>\n",
       "      <th>level6Id</th>\n",
       "      <th>level7Id</th>\n",
       "      <th>level8Id</th>\n",
       "      <th>accuracy</th>\n",
       "      <th>latitude</th>\n",
       "      <th>longitude</th>\n",
       "      <th>zipCode</th>\n",
       "      <th>customZone</th>\n",
       "    </tr>\n",
       "  </thead>\n",
       "  <tbody>\n",
       "    <tr>\n",
       "      <th>1</th>\n",
       "      <td>2</td>\n",
       "      <td>153867863</td>\n",
       "      <td>False</td>\n",
       "      <td>tecnocasa fuenlabrada ferrocarril</td>\n",
       "      <td>916358736.0</td>\n",
       "      <td>https://www.fotocasa.es/es/comprar/vivienda/ma...</td>\n",
       "      <td>3.0</td>\n",
       "      <td>1.0</td>\n",
       "      <td>NaN</td>\n",
       "      <td>89000</td>\n",
       "      <td>...</td>\n",
       "      <td>0</td>\n",
       "      <td>0</td>\n",
       "      <td>0</td>\n",
       "      <td>0</td>\n",
       "      <td>0</td>\n",
       "      <td>1</td>\n",
       "      <td>40,28674</td>\n",
       "      <td>-3,79351</td>\n",
       "      <td>NaN</td>\n",
       "      <td>NaN</td>\n",
       "    </tr>\n",
       "    <tr>\n",
       "      <th>3</th>\n",
       "      <td>4</td>\n",
       "      <td>152776331</td>\n",
       "      <td>False</td>\n",
       "      <td>tecnocasa fuenlabrada ferrocarril</td>\n",
       "      <td>916358736.0</td>\n",
       "      <td>https://www.fotocasa.es/es/comprar/vivienda/ma...</td>\n",
       "      <td>3.0</td>\n",
       "      <td>1.0</td>\n",
       "      <td>86.0</td>\n",
       "      <td>89000</td>\n",
       "      <td>...</td>\n",
       "      <td>0</td>\n",
       "      <td>0</td>\n",
       "      <td>0</td>\n",
       "      <td>0</td>\n",
       "      <td>0</td>\n",
       "      <td>0</td>\n",
       "      <td>40,2853785786438</td>\n",
       "      <td>-3,79508142135624</td>\n",
       "      <td>NaN</td>\n",
       "      <td>NaN</td>\n",
       "    </tr>\n",
       "    <tr>\n",
       "      <th>85</th>\n",
       "      <td>86</td>\n",
       "      <td>153152077</td>\n",
       "      <td>False</td>\n",
       "      <td>sinergical inmobiliaria</td>\n",
       "      <td>NaN</td>\n",
       "      <td>https://www.fotocasa.es/es/comprar/vivienda/le...</td>\n",
       "      <td>1.0</td>\n",
       "      <td>1.0</td>\n",
       "      <td>50.0</td>\n",
       "      <td>107000</td>\n",
       "      <td>...</td>\n",
       "      <td>0</td>\n",
       "      <td>0</td>\n",
       "      <td>0</td>\n",
       "      <td>0</td>\n",
       "      <td>0</td>\n",
       "      <td>1</td>\n",
       "      <td>40,35059</td>\n",
       "      <td>-3,82693</td>\n",
       "      <td>NaN</td>\n",
       "      <td>NaN</td>\n",
       "    </tr>\n",
       "  </tbody>\n",
       "</table>\n",
       "<p>3 rows × 37 columns</p>\n",
       "</div>"
      ],
      "text/plain": [
       "    Unnamed: 0  id_realEstates  isNew                    realEstate_name  \\\n",
       "1            2       153867863  False  tecnocasa fuenlabrada ferrocarril   \n",
       "3            4       152776331  False  tecnocasa fuenlabrada ferrocarril   \n",
       "85          86       153152077  False            sinergical inmobiliaria   \n",
       "\n",
       "    phone_realEstate                                       url_inmueble  \\\n",
       "1        916358736.0  https://www.fotocasa.es/es/comprar/vivienda/ma...   \n",
       "3        916358736.0  https://www.fotocasa.es/es/comprar/vivienda/ma...   \n",
       "85               NaN  https://www.fotocasa.es/es/comprar/vivienda/le...   \n",
       "\n",
       "    rooms  bathrooms  surface   price  ... level4Id level5Id level6Id  \\\n",
       "1     3.0        1.0      NaN   89000  ...        0        0        0   \n",
       "3     3.0        1.0     86.0   89000  ...        0        0        0   \n",
       "85    1.0        1.0     50.0  107000  ...        0        0        0   \n",
       "\n",
       "   level7Id level8Id accuracy          latitude          longitude zipCode  \\\n",
       "1         0        0        1          40,28674           -3,79351     NaN   \n",
       "3         0        0        0  40,2853785786438  -3,79508142135624     NaN   \n",
       "85        0        0        1          40,35059           -3,82693     NaN   \n",
       "\n",
       "   customZone  \n",
       "1         NaN  \n",
       "3         NaN  \n",
       "85        NaN  \n",
       "\n",
       "[3 rows x 37 columns]"
      ]
     },
     "execution_count": 86,
     "metadata": {},
     "output_type": "execute_result"
    }
   ],
   "source": [
    "south_belt_subset.head(3)"
   ]
  },
  {
   "attachments": {},
   "cell_type": "markdown",
   "id": "severe-fisher",
   "metadata": {},
   "source": [
    "#### Exercise 15. Make a bar plot of the median of the prices and explain what you observe (you must use the subset obtained in the question 14) (★★★)\n",
    "\n",
    "Print the bar of the median of the prices and write in the Markdown cell a brief analysis about the plot"
   ]
  },
  {
   "cell_type": "code",
   "execution_count": 87,
   "id": "lyric-bunch",
   "metadata": {},
   "outputs": [],
   "source": [
    "median_prices = south_belt_subset.groupby('level5')['price'].median()\n"
   ]
  },
  {
   "cell_type": "code",
   "execution_count": 88,
   "id": "0287e4e9",
   "metadata": {},
   "outputs": [
    {
     "data": {
      "image/png": "[encoded data removed]",
      "text/plain": [
       "<Figure size 1000x600 with 1 Axes>"
      ]
     },
     "metadata": {},
     "output_type": "display_data"
    }
   ],
   "source": [
    "plt.figure(figsize=(10, 6))\n",
    "median_prices.plot(kind='bar', color='blue')\n",
    "plt.title('Median Prices for South Belt Populations')\n",
    "plt.xlabel('Population')\n",
    "plt.ylabel('Median Price')\n",
    "plt.xticks(rotation=45)\n",
    "plt.grid(True)\n",
    "plt.tight_layout()\n",
    "plt.show()"
   ]
  },
  {
   "attachments": {},
   "cell_type": "markdown",
   "id": "sublime-newspaper",
   "metadata": {},
   "source": [
    "**TODO: Markdown**. To write here, double click to this cell and just remove this content and place the text you want to write. Then, execute the cell."
   ]
  },
  {
   "cell_type": "markdown",
   "id": "248e6afb",
   "metadata": {},
   "source": [
    "Getafe has high median price more than others. "
   ]
  },
  {
   "attachments": {},
   "cell_type": "markdown",
   "id": "speaking-diamond",
   "metadata": {},
   "source": [
    "#### Exercise 16. Calculate the sample mean and variance of the variables: price, rooms, surface area and bathrooms (you must use the subset obtained in the question 14) (★★★)\n",
    "\n",
    "Print both values for each variable"
   ]
  },
  {
   "cell_type": "code",
   "execution_count": 89,
   "id": "random-feeling",
   "metadata": {},
   "outputs": [
    {
     "name": "stdout",
     "output_type": "stream",
     "text": [
      "Sample Mean and Variance for Price in South Belt Subset:\n",
      "Mean: 223094.48070562293\n",
      "Variance: 14921367508.04902\n",
      "\n",
      "Sample Mean and Variance for Rooms in South Belt Subset:\n",
      "Mean: 3.0177383592017737\n",
      "Variance: 0.7188858892927542\n",
      "\n",
      "Sample Mean and Variance for Surface Area in South Belt Subset:\n",
      "Mean: 111.75222363405337\n",
      "Variance: 4263.051760316337\n",
      "\n",
      "Sample Mean and Variance for Bathrooms in South Belt Subset:\n",
      "Mean: 1.633221850613155\n",
      "Variance: 0.5717968625577321\n"
     ]
    }
   ],
   "source": [
    "mean_price = south_belt_subset['price'].mean()\n",
    "variance_price = south_belt_subset['price'].var()\n",
    "\n",
    "mean_rooms = south_belt_subset['rooms'].mean()\n",
    "variance_rooms = south_belt_subset['rooms'].var()\n",
    "\n",
    "mean_surface = south_belt_subset['surface'].mean()\n",
    "variance_surface = south_belt_subset['surface'].var()\n",
    "\n",
    "mean_bathrooms = south_belt_subset['bathrooms'].mean()\n",
    "variance_bathrooms = south_belt_subset['bathrooms'].var()\n",
    "\n",
    "print(\"Sample Mean and Variance for Price in South Belt Subset:\")\n",
    "print(\"Mean:\", mean_price)\n",
    "print(\"Variance:\", variance_price)\n",
    "\n",
    "print(\"\\nSample Mean and Variance for Rooms in South Belt Subset:\")\n",
    "print(\"Mean:\", mean_rooms)\n",
    "print(\"Variance:\", variance_rooms)\n",
    "\n",
    "print(\"\\nSample Mean and Variance for Surface Area in South Belt Subset:\")\n",
    "print(\"Mean:\", mean_surface)\n",
    "print(\"Variance:\", variance_surface)\n",
    "\n",
    "print(\"\\nSample Mean and Variance for Bathrooms in South Belt Subset:\")\n",
    "print(\"Mean:\", mean_bathrooms)\n",
    "print(\"Variance:\", variance_bathrooms)\n"
   ]
  },
  {
   "cell_type": "code",
   "execution_count": 90,
   "id": "80bfb1e6",
   "metadata": {},
   "outputs": [
    {
     "name": "stdout",
     "output_type": "stream",
     "text": [
      "Sample Mean and Variance for Variables in South Belt Subset:\n",
      "              price       rooms     surface   bathrooms\n",
      "count  9.070000e+02  902.000000  787.000000  897.000000\n",
      "mean   2.230945e+05    3.017738  111.752224    1.633222\n",
      "std    1.221530e+05    0.847871   65.292050    0.756173\n",
      "min    0.000000e+00    1.000000   38.000000    1.000000\n",
      "25%    1.349450e+05    3.000000   72.000000    1.000000\n",
      "50%    1.750000e+05    3.000000   89.000000    1.000000\n",
      "75%    3.070500e+05    3.000000  128.000000    2.000000\n",
      "max    1.050000e+06    7.000000  722.000000    6.000000\n"
     ]
    }
   ],
   "source": [
    "variable_stats = south_belt_subset[['price', 'rooms', 'surface', 'bathrooms']].describe()\n",
    "\n",
    "print(\"Sample Mean and Variance for Variables in South Belt Subset:\")\n",
    "print(variable_stats)\n"
   ]
  },
  {
   "attachments": {},
   "cell_type": "markdown",
   "id": "revolutionary-matrix",
   "metadata": {},
   "source": [
    "#### Exercise 17. What is the most expensive house of each population? You must use the subset obtained in the question 14 (★★☆)\n",
    "\n",
    "Print both the address and the price of the selected house of each population. You can print a DataFrame or a single line for each population"
   ]
  },
  {
   "cell_type": "code",
   "execution_count": 91,
   "id": "fifteen-browse",
   "metadata": {},
   "outputs": [
    {
     "name": "stdout",
     "output_type": "stream",
     "text": [
      "Most Expensive Home in Fuenlabrada :\n",
      "Price: 490000\n",
      "Real Estate Name: unna madrid\n",
      "Rea Estate ID: 153660921\n",
      "\n",
      "\n",
      "Most Expensive Home in Leganés :\n",
      "Price: 650000\n",
      "Real Estate Name: bafre gestion y servicios inmobiliarios\n",
      "Rea Estate ID: 152251506\n",
      "\n",
      "\n",
      "Most Expensive Home in Getafe :\n",
      "Price: 1050000\n",
      "Real Estate Name: unna grupo inmobiliario\n",
      "Rea Estate ID: 151105544\n",
      "\n",
      "\n",
      "Most Expensive Home in Alcorcón :\n",
      "Price: 950000\n",
      "Real Estate Name: 100 home red inmobiliaria\n",
      "Rea Estate ID: 153275915\n",
      "\n",
      "\n"
     ]
    }
   ],
   "source": [
    "for population in populations_to_subset:\n",
    "    population_data = south_belt_subset[south_belt_subset['level5'] == population]\n",
    "    \n",
    "    if not population_data.empty:\n",
    "        most_expensive_home = population_data.loc[population_data['price'].idxmax()]\n",
    "        print(\"Most Expensive Home in\", population, \":\")\n",
    "        print(\"Price:\", most_expensive_home['price'])\n",
    "        print(\"Real Estate Name:\", most_expensive_home['realEstate_name'])\n",
    "        print(\"Rea Estate ID:\", most_expensive_home['id_realEstates'])\n",
    "        print(\"\\n\")\n",
    "    else:\n",
    "        print(\"No data for\", population)"
   ]
  },
  {
   "attachments": {},
   "cell_type": "markdown",
   "id": "activated-knight",
   "metadata": {},
   "source": [
    "#### Exercise 18. Normalize the variable of prices for each population and plot the 4 histograms in the same plot (you must use the subset obtained in the question 14) (★★★)\n",
    "\n",
    "For the normalization method you can use the one you consider to, there is not a single correct answer to this question. Print the plot and write in the Markdown cell a brief analysis about the plot\n",
    "\n",
    "Hint: You can help yourself reviewing the multihist demo of Matplotlib"
   ]
  },
  {
   "cell_type": "code",
   "execution_count": 92,
   "id": "civic-meditation",
   "metadata": {},
   "outputs": [
    {
     "name": "stdout",
     "output_type": "stream",
     "text": [
      "level5       \n",
      "Alcorcón  85     0.018055\n",
      "          109    0.388468\n",
      "          765    0.182295\n",
      "          816    0.241701\n",
      "          827    0.033081\n",
      "Name: price, dtype: float64\n"
     ]
    }
   ],
   "source": [
    "normalized_prices = south_belt_subset.groupby('level5')['price'].apply(lambda x: (x - x.min()) / (x.max() - x.min()))\n",
    "print(normalized_prices.head(5))\n"
   ]
  },
  {
   "cell_type": "code",
   "execution_count": 93,
   "id": "8d36d422",
   "metadata": {},
   "outputs": [
    {
     "data": {
      "text/plain": [
       "level5       \n",
       "Alcorcón  85     0.018055\n",
       "          109    0.388468\n",
       "          765    0.182295\n",
       "          816    0.241701\n",
       "          827    0.033081\n",
       "Name: price, dtype: float64"
      ]
     },
     "execution_count": 93,
     "metadata": {},
     "output_type": "execute_result"
    }
   ],
   "source": [
    "normalized_prices.head(5)"
   ]
  },
  {
   "cell_type": "code",
   "execution_count": 94,
   "id": "3d64b5af",
   "metadata": {},
   "outputs": [
    {
     "data": {
      "image/png": "[encoded data removed]",
      "text/plain": [
       "<Figure size 1000x600 with 1 Axes>"
      ]
     },
     "metadata": {},
     "output_type": "display_data"
    }
   ],
   "source": [
    "plt.figure(figsize=(10, 6))\n",
    "for population in populations_to_subset:\n",
    "    plt.hist(normalized_prices[population], bins=20, alpha=0.5, label=population)\n",
    "\n",
    "plt.title('Histograms of Normalized Prices for Different Populations')\n",
    "plt.xlabel('Normalized Price')\n",
    "plt.ylabel('Frequency')\n",
    "plt.legend()\n",
    "plt.grid(True)\n",
    "plt.show()"
   ]
  },
  {
   "attachments": {},
   "cell_type": "markdown",
   "id": "precise-heavy",
   "metadata": {},
   "source": [
    "**TODO: Markdown**. To write here, double click to this cell and just remove this content and place the text you want to write. Then, execute the cell."
   ]
  },
  {
   "cell_type": "markdown",
   "id": "7edd74ee",
   "metadata": {},
   "source": [
    "Getafe has frequency between 0.0 to 0.4. Alcon has frequency between 0.0 to 0.2. other has not frequency. "
   ]
  },
  {
   "attachments": {},
   "cell_type": "markdown",
   "id": "patent-jonathan",
   "metadata": {},
   "source": [
    "#### Exercise 19. What can you say about the price per square meter (price/m2) between the towns of \"Getafe\" and \"Alcorcón\"? You must use the subset obtained in the question 14 (★★☆)\n",
    "\n",
    "Hint: Create a new column called `pps` (price per square) and then analyse the values"
   ]
  },
  {
   "cell_type": "code",
   "execution_count": 95,
   "id": "274aec8a",
   "metadata": {},
   "outputs": [],
   "source": [
    "getafe_properties = ds[ds['level5'] == 'Getafe'].copy()\n",
    "alcorcon_properties = ds[ds['level5'] == 'Alcorcón'].copy()"
   ]
  },
  {
   "cell_type": "code",
   "execution_count": 96,
   "id": "2ee5b4d3",
   "metadata": {},
   "outputs": [],
   "source": [
    "getafe_properties['price_per_sqm'] = getafe_properties['price'] / getafe_properties['surface']\n",
    "alcorcon_properties['price_per_sqm'] = alcorcon_properties.apply(lambda row: row['price'] / row['surface'] if row['surface'] > 0 else 0, axis=1)"
   ]
  },
  {
   "cell_type": "code",
   "execution_count": 97,
   "id": "8c4aed82",
   "metadata": {},
   "outputs": [],
   "source": [
    "avg_price_per_sqm_getafe = getafe_properties['price_per_sqm'].mean()\n",
    "avg_price_per_sqm_alcorcon = alcorcon_properties['price_per_sqm'].mean()\n"
   ]
  },
  {
   "cell_type": "code",
   "execution_count": 98,
   "id": "45afe26f",
   "metadata": {},
   "outputs": [
    {
     "name": "stdout",
     "output_type": "stream",
     "text": [
      "Average Price per Square Meter in Getafe: 2066.314949251463\n",
      "Average Price per Square Meter in Alcorcón: 2038.943837234389\n"
     ]
    }
   ],
   "source": [
    "print(\"Average Price per Square Meter in Getafe:\", avg_price_per_sqm_getafe)\n",
    "print(\"Average Price per Square Meter in Alcorcón:\", avg_price_per_sqm_alcorcon)\n"
   ]
  },
  {
   "cell_type": "code",
   "execution_count": 99,
   "id": "4cbc513f",
   "metadata": {},
   "outputs": [],
   "source": [
    "price_sqm_difference = abs(avg_price_per_sqm_getafe - avg_price_per_sqm_alcorcon)"
   ]
  },
  {
   "cell_type": "code",
   "execution_count": 100,
   "id": "86caa8c2",
   "metadata": {},
   "outputs": [
    {
     "name": "stdout",
     "output_type": "stream",
     "text": [
      "The average price per square meter in Getafe is higher than in Alcorcón.\n",
      "The price difference is 27.37 units.\n"
     ]
    }
   ],
   "source": [
    "if avg_price_per_sqm_getafe > avg_price_per_sqm_alcorcon:\n",
    "    print(\"The average price per square meter in Getafe is higher than in Alcorcón.\")\n",
    "    print(f\"The price difference is {price_sqm_difference:.2f} units.\")\n",
    "\n",
    "elif avg_price_per_sqm_getafe < avg_price_per_sqm_alcorcon:\n",
    "    print(\"The average price per square meter in Alcorcón is higher than in Getafe.\")\n",
    "    print(f\"The price difference is {price_sqm_difference:.2f} units.\")\n",
    "\n",
    "else:\n",
    "    print(\"The average price per square meter is the same in both towns.\")\n"
   ]
  },
  {
   "cell_type": "code",
   "execution_count": 101,
   "id": "b2765a65",
   "metadata": {},
   "outputs": [
    {
     "name": "stdout",
     "output_type": "stream",
     "text": [
      "Number of properties in Getafe subset: 290\n",
      "Number of properties in Alcorcon subset: 190\n"
     ]
    }
   ],
   "source": [
    "num_rows_getafe = getafe_properties.shape[0]\n",
    "num_rows_alcorcon = alcorcon_properties.shape[0]\n",
    "print(\"Number of properties in Getafe subset:\", num_rows_getafe)\n",
    "print(\"Number of properties in Alcorcon subset:\", num_rows_alcorcon)\n"
   ]
  },
  {
   "attachments": {},
   "cell_type": "markdown",
   "id": "enhanced-moscow",
   "metadata": {},
   "source": [
    "#### Exercise 20. Make the same plot for 4 different populations (level5 column) and rearrange them on the same graph? You must use the subset obtained in the question 14 (★★☆) \n",
    "Hint: make a scatter plot of each population using subplots."
   ]
  },
  {
   "cell_type": "code",
   "execution_count": 102,
   "id": "accepting-airfare",
   "metadata": {},
   "outputs": [],
   "source": [
    "populations_to_analyze = ['Valdemorillo', 'Galapagar', 'Getafe', 'Alcorcón']\n"
   ]
  },
  {
   "cell_type": "code",
   "execution_count": 103,
   "id": "e0850838",
   "metadata": {},
   "outputs": [
    {
     "data": {
      "image/png": "[encoded data removed]",
      "text/plain": [
       "<Figure size 1200x1000 with 4 Axes>"
      ]
     },
     "metadata": {},
     "output_type": "display_data"
    }
   ],
   "source": [
    "fig, axs = plt.subplots(2, 2, figsize=(12, 10))\n",
    "axs = axs.ravel()\n",
    "\n",
    "for i, population in enumerate(populations_to_analyze):\n",
    "    population_data = filtered_data[filtered_data['level5'] == population]\n",
    "    axs[i].scatter(population_data['surface'], population_data['price'], alpha=0.5)\n",
    "    axs[i].set_title(f'Scatter Plot for {population}')\n",
    "    axs[i].set_xlabel('Surface Area')\n",
    "    axs[i].set_ylabel('Price')\n",
    "    axs[i].grid(True)\n",
    "\n",
    "plt.tight_layout()\n",
    "plt.show()"
   ]
  },
  {
   "attachments": {},
   "cell_type": "markdown",
   "id": "blocked-effects",
   "metadata": {},
   "source": [
    "#### Exercise 21. Make a plot of the coordinates (latitude and longitude columns) of the south belt of Madrid by color of each population (you must use the subset obtained in the question 14) (★★★★)\n",
    "\n",
    "Execute the following cell and then start coding in the next one. You must implement a simple code that transform the coordinates columns in a Python dictionary (add more information if needed) and then add it to the map"
   ]
  },
  {
   "cell_type": "code",
   "execution_count": 104,
   "id": "64775374",
   "metadata": {},
   "outputs": [],
   "source": [
    "import pandas as pd\n",
    "import numpy as np\n",
    "import matplotlib.pyplot as plt\n",
    "from matplotlib.ticker import StrMethodFormatter\n",
    "from ipyleaflet import Map, basemaps, CircleMarker, Marker\n"
   ]
  },
  {
   "cell_type": "code",
   "execution_count": 105,
   "id": "present-mistress",
   "metadata": {},
   "outputs": [
    {
     "name": "stdout",
     "output_type": "stream",
     "text": [
      "latitude     object\n",
      "longitude    object\n",
      "dtype: object\n"
     ]
    }
   ],
   "source": [
    "print(south_belt_subset[['latitude', 'longitude']].dtypes)\n"
   ]
  },
  {
   "cell_type": "code",
   "execution_count": 106,
   "id": "00ad2d53",
   "metadata": {},
   "outputs": [
    {
     "name": "stdout",
     "output_type": "stream",
     "text": [
      "       Unnamed: 0  id_realEstates  isNew  \\\n",
      "1               2       153867863  False   \n",
      "3               4       152776331  False   \n",
      "85             86       153152077  False   \n",
      "94             95       153995577  False   \n",
      "109           110       153586414  False   \n",
      "...           ...             ...    ...   \n",
      "15275       15276       153903887  False   \n",
      "15291       15292       151697757  False   \n",
      "15305       15306       153902389  False   \n",
      "15322       15323       153871864  False   \n",
      "15325       15326       153901467  False   \n",
      "\n",
      "                                 realEstate_name  phone_realEstate  \\\n",
      "1              tecnocasa fuenlabrada ferrocarril       916358736.0   \n",
      "3              tecnocasa fuenlabrada ferrocarril       916358736.0   \n",
      "85                       sinergical inmobiliaria               NaN   \n",
      "94                               viviendas365com       911226014.0   \n",
      "109              area uno asesores inmobiliarios       912664081.0   \n",
      "...                                          ...               ...   \n",
      "15275  aliseda servicios de gestion inmobiliaria       911368198.0   \n",
      "15291                                    unipiso       912788631.0   \n",
      "15305                             jadein ferrero       914871639.0   \n",
      "15322                          gestion comercial       911220662.0   \n",
      "15325                              montehogar 68       911790675.0   \n",
      "\n",
      "                                            url_inmueble  rooms  bathrooms  \\\n",
      "1      https://www.fotocasa.es/es/comprar/vivienda/ma...    3.0        1.0   \n",
      "3      https://www.fotocasa.es/es/comprar/vivienda/ma...    3.0        1.0   \n",
      "85     https://www.fotocasa.es/es/comprar/vivienda/le...    1.0        1.0   \n",
      "94     https://www.fotocasa.es/es/comprar/vivienda/le...    3.0        2.0   \n",
      "109    https://www.fotocasa.es/es/comprar/vivienda/ma...    3.0        3.0   \n",
      "...                                                  ...    ...        ...   \n",
      "15275  https://www.fotocasa.es/es/comprar/vivienda/al...    3.0        1.0   \n",
      "15291  https://www.fotocasa.es/es/comprar/vivienda/al...    3.0        2.0   \n",
      "15305  https://www.fotocasa.es/es/comprar/vivienda/ma...    3.0        2.0   \n",
      "15322  https://www.fotocasa.es/es/comprar/vivienda/ma...    3.0        1.0   \n",
      "15325  https://www.fotocasa.es/es/comprar/vivienda/ma...    2.0        2.0   \n",
      "\n",
      "       surface   price  ... level4Id level5Id level6Id level7Id level8Id  \\\n",
      "1          NaN   89000  ...        0        0        0        0        0   \n",
      "3         86.0   89000  ...        0        0        0        0        0   \n",
      "85        50.0  107000  ...        0        0        0        0        0   \n",
      "94       120.0  320000  ...        0        0        0        0        0   \n",
      "109      142.0  425000  ...        0        0        0        0        0   \n",
      "...        ...     ...  ...      ...      ...      ...      ...      ...   \n",
      "15275     78.0  138000  ...        0        0        0        0        0   \n",
      "15291    110.0  279000  ...        0        0        0        0        0   \n",
      "15305     85.0  170000  ...        0        0        0        0        0   \n",
      "15322     91.0  112000  ...        0        0        0        0        0   \n",
      "15325     99.0  215000  ...        0        0        0        0        0   \n",
      "\n",
      "      accuracy          latitude          longitude zipCode customZone  \n",
      "1            1          40,28674           -3,79351     NaN        NaN  \n",
      "3            0  40,2853785786438  -3,79508142135624     NaN        NaN  \n",
      "85           1          40,35059           -3,82693     NaN        NaN  \n",
      "94           0          40,31933           -3,77574     NaN        NaN  \n",
      "109          0        40,3313411         -3,8313868     NaN        NaN  \n",
      "...        ...               ...                ...     ...        ...  \n",
      "15275        1          40,31381           -3,83733     NaN        NaN  \n",
      "15291        0        40,3259051           -3,76318     NaN        NaN  \n",
      "15305        0        40,2882193         -3,8098617     NaN        NaN  \n",
      "15322        0          40,28282           -3,78892     NaN        NaN  \n",
      "15325        1          40,28062           -3,79869     NaN        NaN  \n",
      "\n",
      "[907 rows x 37 columns]\n"
     ]
    }
   ],
   "source": [
    "print(south_belt_subset)"
   ]
  },
  {
   "cell_type": "code",
   "execution_count": 107,
   "id": "5bf775ad",
   "metadata": {},
   "outputs": [
    {
     "name": "stderr",
     "output_type": "stream",
     "text": [
      "/tmp/ipykernel_1256/2901907967.py:1: SettingWithCopyWarning: \n",
      "A value is trying to be set on a copy of a slice from a DataFrame.\n",
      "Try using .loc[row_indexer,col_indexer] = value instead\n",
      "\n",
      "See the caveats in the documentation: https://pandas.pydata.org/pandas-docs/stable/user_guide/indexing.html#returning-a-view-versus-a-copy\n",
      "  south_belt_subset['latitude'] = south_belt_subset['latitude'].astype(str)\n",
      "/tmp/ipykernel_1256/2901907967.py:2: SettingWithCopyWarning: \n",
      "A value is trying to be set on a copy of a slice from a DataFrame.\n",
      "Try using .loc[row_indexer,col_indexer] = value instead\n",
      "\n",
      "See the caveats in the documentation: https://pandas.pydata.org/pandas-docs/stable/user_guide/indexing.html#returning-a-view-versus-a-copy\n",
      "  south_belt_subset['longitude'] = south_belt_subset['longitude'].astype(str)\n"
     ]
    }
   ],
   "source": [
    "south_belt_subset['latitude'] = south_belt_subset['latitude'].astype(str)\n",
    "south_belt_subset['longitude'] = south_belt_subset['longitude'].astype(str)\n"
   ]
  },
  {
   "cell_type": "code",
   "execution_count": 108,
   "id": "ae0a5e92",
   "metadata": {},
   "outputs": [
    {
     "name": "stderr",
     "output_type": "stream",
     "text": [
      "/tmp/ipykernel_1256/3366430287.py:1: SettingWithCopyWarning: \n",
      "A value is trying to be set on a copy of a slice from a DataFrame.\n",
      "Try using .loc[row_indexer,col_indexer] = value instead\n",
      "\n",
      "See the caveats in the documentation: https://pandas.pydata.org/pandas-docs/stable/user_guide/indexing.html#returning-a-view-versus-a-copy\n",
      "  south_belt_subset['latitude'] = south_belt_subset['latitude'].str.replace(',', '.').astype(float)\n",
      "/tmp/ipykernel_1256/3366430287.py:2: SettingWithCopyWarning: \n",
      "A value is trying to be set on a copy of a slice from a DataFrame.\n",
      "Try using .loc[row_indexer,col_indexer] = value instead\n",
      "\n",
      "See the caveats in the documentation: https://pandas.pydata.org/pandas-docs/stable/user_guide/indexing.html#returning-a-view-versus-a-copy\n",
      "  south_belt_subset['longitude'] = south_belt_subset['longitude'].str.replace(',', '.').astype(float)\n"
     ]
    }
   ],
   "source": [
    "south_belt_subset['latitude'] = south_belt_subset['latitude'].str.replace(',', '.').astype(float)\n",
    "south_belt_subset['longitude'] = south_belt_subset['longitude'].str.replace(',', '.').astype(float)"
   ]
  },
  {
   "cell_type": "code",
   "execution_count": 109,
   "id": "6a8b9138",
   "metadata": {},
   "outputs": [
    {
     "data": {
      "application/vnd.jupyter.widget-view+json": {
       "model_id": "372d2f20649c454b9e4958b972d633e1",
       "version_major": 2,
       "version_minor": 0
      },
      "text/plain": [
       "Map(center=[40.317755279476394, -3.784103393554688], controls=(ZoomControl(options=['position', 'zoom_in_text'…"
      ]
     },
     "execution_count": 109,
     "metadata": {},
     "output_type": "execute_result"
    }
   ],
   "source": [
    "map = Map(center = (40.317755279476394, -3.784103393554688), zoom = 12.0, \n",
    "    basemap=basemaps.Stamen.Terrain)\n",
    "for index, row in south_belt_subset.iterrows():\n",
    "    latitude = row[\"latitude\"] \n",
    "    longitude = row[\"longitude\"] \n",
    "    marker = CircleMarker(location=(latitude, longitude), radius=7,\n",
    "                          color=\"blue\", fill_color=\"blue\", stroke_width=-500)\n",
    "    map.add_layer(marker)\n",
    "map\n"
   ]
  }
 ],
 "metadata": {
  "kernelspec": {
   "display_name": "Python 3",
   "language": "python",
   "name": "python3"
  },
  "language_info": {
   "codemirror_mode": {
    "name": "ipython",
    "version": 3
   },
   "file_extension": ".py",
   "mimetype": "text/x-python",
   "name": "python",
   "nbconvert_exporter": "python",
   "pygments_lexer": "ipython3",
   "version": "3.11.5"
  }
 },
 "nbformat": 4,
 "nbformat_minor": 5
}
